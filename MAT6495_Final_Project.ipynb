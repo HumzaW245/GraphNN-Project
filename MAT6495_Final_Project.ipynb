{
  "metadata": {
    "kernelspec": {
      "language": "python",
      "display_name": "Python 3",
      "name": "python3"
    },
    "language_info": {
      "name": "python",
      "version": "3.10.13",
      "mimetype": "text/x-python",
      "codemirror_mode": {
        "name": "ipython",
        "version": 3
      },
      "pygments_lexer": "ipython3",
      "nbconvert_exporter": "python",
      "file_extension": ".py"
    },
    "kaggle": {
      "accelerator": "none",
      "dataSources": [
        {
          "sourceId": 6960999,
          "sourceType": "datasetVersion",
          "datasetId": 3931573
        }
      ],
      "dockerImageVersionId": 30746,
      "isInternetEnabled": false,
      "language": "python",
      "sourceType": "notebook",
      "isGpuEnabled": false
    },
    "colab": {
      "provenance": [],
      "include_colab_link": true
    }
  },
  "nbformat_minor": 0,
  "nbformat": 4,
  "cells": [
    {
      "cell_type": "markdown",
      "metadata": {
        "id": "view-in-github",
        "colab_type": "text"
      },
      "source": [
        "<a href=\"https://colab.research.google.com/github/HumzaW245/GraphNN-Project/blob/main/MAT6495_Final_Project.ipynb\" target=\"_parent\"><img src=\"https://colab.research.google.com/assets/colab-badge.svg\" alt=\"Open In Colab\"/></a>"
      ]
    },
    {
      "source": [
        "'''\n",
        "Dataset for flights from: https://www.kaggle.com/datasets/muhammadbinimran/flight-price-prediction/code\n",
        "\n",
        "\n",
        "'''\n",
        "import kagglehub\n",
        "data_path = kagglehub.dataset_download('muhammadbinimran/flight-price-prediction')\n",
        "\n",
        "import numpy as np\n",
        "import pandas as pd\n",
        "import os\n",
        "import matplotlib.pyplot as plt\n",
        "import seaborn as sns\n",
        "%matplotlib inline\n"
      ],
      "metadata": {
        "id": "lx6SxlGU0kSF"
      },
      "cell_type": "code",
      "outputs": [],
      "execution_count": 2
    },
    {
      "cell_type": "code",
      "source": [
        "trainPath = None\n",
        "testPath = None\n",
        "for dirname, _, filenames in os.walk(data_path):\n",
        "    for filename in filenames:\n",
        "        path = os.path.join(dirname, filename)\n",
        "        print(path)\n",
        "        if \"Train\" in path:\n",
        "          print(f'train patth is {path}' )\n",
        "          trainPath = path\n",
        "        else:\n",
        "          print(f'test patth is {path}' )\n",
        "          testPath = path\n"
      ],
      "metadata": {
        "_uuid": "8f2839f25d086af736a60e9eeb907d3b93b6e0e5",
        "_cell_guid": "b1076dfc-b9ad-4769-8c92-a6c4dae69d19",
        "execution": {
          "iopub.status.busy": "2024-07-15T10:57:35.194653Z",
          "iopub.execute_input": "2024-07-15T10:57:35.195165Z",
          "iopub.status.idle": "2024-07-15T10:57:35.647286Z",
          "shell.execute_reply.started": "2024-07-15T10:57:35.195112Z",
          "shell.execute_reply": "2024-07-15T10:57:35.646099Z"
        },
        "trusted": true,
        "id": "ZnuukRAZ0kSG",
        "colab": {
          "base_uri": "https://localhost:8080/"
        },
        "outputId": "c3ad2af0-4444-4f36-db14-ecdedb2e490c"
      },
      "outputs": [
        {
          "output_type": "stream",
          "name": "stdout",
          "text": [
            "/root/.cache/kagglehub/datasets/muhammadbinimran/flight-price-prediction/versions/2/Data_Train.csv\n",
            "train patth is /root/.cache/kagglehub/datasets/muhammadbinimran/flight-price-prediction/versions/2/Data_Train.csv\n",
            "/root/.cache/kagglehub/datasets/muhammadbinimran/flight-price-prediction/versions/2/Test_set.csv\n",
            "test patth is /root/.cache/kagglehub/datasets/muhammadbinimran/flight-price-prediction/versions/2/Test_set.csv\n"
          ]
        }
      ],
      "execution_count": 11
    },
    {
      "cell_type": "code",
      "source": [],
      "metadata": {
        "execution": {
          "iopub.status.busy": "2024-07-15T10:57:35.652674Z",
          "iopub.execute_input": "2024-07-15T10:57:35.652983Z",
          "iopub.status.idle": "2024-07-15T10:57:36.237359Z",
          "shell.execute_reply.started": "2024-07-15T10:57:35.652955Z",
          "shell.execute_reply": "2024-07-15T10:57:36.236208Z"
        },
        "trusted": true,
        "id": "N_9ZciDA0kSH"
      },
      "outputs": [],
      "execution_count": 3
    },
    {
      "cell_type": "code",
      "source": [
        "train=pd.read_csv(trainPath)\n",
        "train.head()"
      ],
      "metadata": {
        "execution": {
          "iopub.status.busy": "2024-07-15T10:57:36.238668Z",
          "iopub.execute_input": "2024-07-15T10:57:36.239013Z",
          "iopub.status.idle": "2024-07-15T10:57:36.294109Z",
          "shell.execute_reply.started": "2024-07-15T10:57:36.238966Z",
          "shell.execute_reply": "2024-07-15T10:57:36.292976Z"
        },
        "trusted": true,
        "id": "Bog_eun00kSH",
        "colab": {
          "base_uri": "https://localhost:8080/",
          "height": 223
        },
        "outputId": "6a627da1-552d-4296-e281-ae4ffbbb97c4"
      },
      "outputs": [
        {
          "output_type": "execute_result",
          "data": {
            "text/plain": [
              "       Airline Date_of_Journey    Source Destination                  Route  \\\n",
              "0       IndiGo      24/03/2019  Banglore   New Delhi              BLR ? DEL   \n",
              "1    Air India       1/05/2019   Kolkata    Banglore  CCU ? IXR ? BBI ? BLR   \n",
              "2  Jet Airways       9/06/2019     Delhi      Cochin  DEL ? LKO ? BOM ? COK   \n",
              "3       IndiGo      12/05/2019   Kolkata    Banglore        CCU ? NAG ? BLR   \n",
              "4       IndiGo      01/03/2019  Banglore   New Delhi        BLR ? NAG ? DEL   \n",
              "\n",
              "  Dep_Time  Arrival_Time Duration Total_Stops Additional_Info  Price  \n",
              "0    22:20  01:10 22 Mar   2h 50m    non-stop         No info   3897  \n",
              "1    05:50         13:15   7h 25m     2 stops         No info   7662  \n",
              "2    09:25  04:25 10 Jun      19h     2 stops         No info  13882  \n",
              "3    18:05         23:30   5h 25m      1 stop         No info   6218  \n",
              "4    16:50         21:35   4h 45m      1 stop         No info  13302  "
            ],
            "text/html": [
              "\n",
              "  <div id=\"df-08c30cbd-756a-43e1-8f54-2f0de6156c68\" class=\"colab-df-container\">\n",
              "    <div>\n",
              "<style scoped>\n",
              "    .dataframe tbody tr th:only-of-type {\n",
              "        vertical-align: middle;\n",
              "    }\n",
              "\n",
              "    .dataframe tbody tr th {\n",
              "        vertical-align: top;\n",
              "    }\n",
              "\n",
              "    .dataframe thead th {\n",
              "        text-align: right;\n",
              "    }\n",
              "</style>\n",
              "<table border=\"1\" class=\"dataframe\">\n",
              "  <thead>\n",
              "    <tr style=\"text-align: right;\">\n",
              "      <th></th>\n",
              "      <th>Airline</th>\n",
              "      <th>Date_of_Journey</th>\n",
              "      <th>Source</th>\n",
              "      <th>Destination</th>\n",
              "      <th>Route</th>\n",
              "      <th>Dep_Time</th>\n",
              "      <th>Arrival_Time</th>\n",
              "      <th>Duration</th>\n",
              "      <th>Total_Stops</th>\n",
              "      <th>Additional_Info</th>\n",
              "      <th>Price</th>\n",
              "    </tr>\n",
              "  </thead>\n",
              "  <tbody>\n",
              "    <tr>\n",
              "      <th>0</th>\n",
              "      <td>IndiGo</td>\n",
              "      <td>24/03/2019</td>\n",
              "      <td>Banglore</td>\n",
              "      <td>New Delhi</td>\n",
              "      <td>BLR ? DEL</td>\n",
              "      <td>22:20</td>\n",
              "      <td>01:10 22 Mar</td>\n",
              "      <td>2h 50m</td>\n",
              "      <td>non-stop</td>\n",
              "      <td>No info</td>\n",
              "      <td>3897</td>\n",
              "    </tr>\n",
              "    <tr>\n",
              "      <th>1</th>\n",
              "      <td>Air India</td>\n",
              "      <td>1/05/2019</td>\n",
              "      <td>Kolkata</td>\n",
              "      <td>Banglore</td>\n",
              "      <td>CCU ? IXR ? BBI ? BLR</td>\n",
              "      <td>05:50</td>\n",
              "      <td>13:15</td>\n",
              "      <td>7h 25m</td>\n",
              "      <td>2 stops</td>\n",
              "      <td>No info</td>\n",
              "      <td>7662</td>\n",
              "    </tr>\n",
              "    <tr>\n",
              "      <th>2</th>\n",
              "      <td>Jet Airways</td>\n",
              "      <td>9/06/2019</td>\n",
              "      <td>Delhi</td>\n",
              "      <td>Cochin</td>\n",
              "      <td>DEL ? LKO ? BOM ? COK</td>\n",
              "      <td>09:25</td>\n",
              "      <td>04:25 10 Jun</td>\n",
              "      <td>19h</td>\n",
              "      <td>2 stops</td>\n",
              "      <td>No info</td>\n",
              "      <td>13882</td>\n",
              "    </tr>\n",
              "    <tr>\n",
              "      <th>3</th>\n",
              "      <td>IndiGo</td>\n",
              "      <td>12/05/2019</td>\n",
              "      <td>Kolkata</td>\n",
              "      <td>Banglore</td>\n",
              "      <td>CCU ? NAG ? BLR</td>\n",
              "      <td>18:05</td>\n",
              "      <td>23:30</td>\n",
              "      <td>5h 25m</td>\n",
              "      <td>1 stop</td>\n",
              "      <td>No info</td>\n",
              "      <td>6218</td>\n",
              "    </tr>\n",
              "    <tr>\n",
              "      <th>4</th>\n",
              "      <td>IndiGo</td>\n",
              "      <td>01/03/2019</td>\n",
              "      <td>Banglore</td>\n",
              "      <td>New Delhi</td>\n",
              "      <td>BLR ? NAG ? DEL</td>\n",
              "      <td>16:50</td>\n",
              "      <td>21:35</td>\n",
              "      <td>4h 45m</td>\n",
              "      <td>1 stop</td>\n",
              "      <td>No info</td>\n",
              "      <td>13302</td>\n",
              "    </tr>\n",
              "  </tbody>\n",
              "</table>\n",
              "</div>\n",
              "    <div class=\"colab-df-buttons\">\n",
              "\n",
              "  <div class=\"colab-df-container\">\n",
              "    <button class=\"colab-df-convert\" onclick=\"convertToInteractive('df-08c30cbd-756a-43e1-8f54-2f0de6156c68')\"\n",
              "            title=\"Convert this dataframe to an interactive table.\"\n",
              "            style=\"display:none;\">\n",
              "\n",
              "  <svg xmlns=\"http://www.w3.org/2000/svg\" height=\"24px\" viewBox=\"0 -960 960 960\">\n",
              "    <path d=\"M120-120v-720h720v720H120Zm60-500h600v-160H180v160Zm220 220h160v-160H400v160Zm0 220h160v-160H400v160ZM180-400h160v-160H180v160Zm440 0h160v-160H620v160ZM180-180h160v-160H180v160Zm440 0h160v-160H620v160Z\"/>\n",
              "  </svg>\n",
              "    </button>\n",
              "\n",
              "  <style>\n",
              "    .colab-df-container {\n",
              "      display:flex;\n",
              "      gap: 12px;\n",
              "    }\n",
              "\n",
              "    .colab-df-convert {\n",
              "      background-color: #E8F0FE;\n",
              "      border: none;\n",
              "      border-radius: 50%;\n",
              "      cursor: pointer;\n",
              "      display: none;\n",
              "      fill: #1967D2;\n",
              "      height: 32px;\n",
              "      padding: 0 0 0 0;\n",
              "      width: 32px;\n",
              "    }\n",
              "\n",
              "    .colab-df-convert:hover {\n",
              "      background-color: #E2EBFA;\n",
              "      box-shadow: 0px 1px 2px rgba(60, 64, 67, 0.3), 0px 1px 3px 1px rgba(60, 64, 67, 0.15);\n",
              "      fill: #174EA6;\n",
              "    }\n",
              "\n",
              "    .colab-df-buttons div {\n",
              "      margin-bottom: 4px;\n",
              "    }\n",
              "\n",
              "    [theme=dark] .colab-df-convert {\n",
              "      background-color: #3B4455;\n",
              "      fill: #D2E3FC;\n",
              "    }\n",
              "\n",
              "    [theme=dark] .colab-df-convert:hover {\n",
              "      background-color: #434B5C;\n",
              "      box-shadow: 0px 1px 3px 1px rgba(0, 0, 0, 0.15);\n",
              "      filter: drop-shadow(0px 1px 2px rgba(0, 0, 0, 0.3));\n",
              "      fill: #FFFFFF;\n",
              "    }\n",
              "  </style>\n",
              "\n",
              "    <script>\n",
              "      const buttonEl =\n",
              "        document.querySelector('#df-08c30cbd-756a-43e1-8f54-2f0de6156c68 button.colab-df-convert');\n",
              "      buttonEl.style.display =\n",
              "        google.colab.kernel.accessAllowed ? 'block' : 'none';\n",
              "\n",
              "      async function convertToInteractive(key) {\n",
              "        const element = document.querySelector('#df-08c30cbd-756a-43e1-8f54-2f0de6156c68');\n",
              "        const dataTable =\n",
              "          await google.colab.kernel.invokeFunction('convertToInteractive',\n",
              "                                                    [key], {});\n",
              "        if (!dataTable) return;\n",
              "\n",
              "        const docLinkHtml = 'Like what you see? Visit the ' +\n",
              "          '<a target=\"_blank\" href=https://colab.research.google.com/notebooks/data_table.ipynb>data table notebook</a>'\n",
              "          + ' to learn more about interactive tables.';\n",
              "        element.innerHTML = '';\n",
              "        dataTable['output_type'] = 'display_data';\n",
              "        await google.colab.output.renderOutput(dataTable, element);\n",
              "        const docLink = document.createElement('div');\n",
              "        docLink.innerHTML = docLinkHtml;\n",
              "        element.appendChild(docLink);\n",
              "      }\n",
              "    </script>\n",
              "  </div>\n",
              "\n",
              "\n",
              "<div id=\"df-2cc53ea5-8093-4590-9ab2-329b0bc1ec19\">\n",
              "  <button class=\"colab-df-quickchart\" onclick=\"quickchart('df-2cc53ea5-8093-4590-9ab2-329b0bc1ec19')\"\n",
              "            title=\"Suggest charts\"\n",
              "            style=\"display:none;\">\n",
              "\n",
              "<svg xmlns=\"http://www.w3.org/2000/svg\" height=\"24px\"viewBox=\"0 0 24 24\"\n",
              "     width=\"24px\">\n",
              "    <g>\n",
              "        <path d=\"M19 3H5c-1.1 0-2 .9-2 2v14c0 1.1.9 2 2 2h14c1.1 0 2-.9 2-2V5c0-1.1-.9-2-2-2zM9 17H7v-7h2v7zm4 0h-2V7h2v10zm4 0h-2v-4h2v4z\"/>\n",
              "    </g>\n",
              "</svg>\n",
              "  </button>\n",
              "\n",
              "<style>\n",
              "  .colab-df-quickchart {\n",
              "      --bg-color: #E8F0FE;\n",
              "      --fill-color: #1967D2;\n",
              "      --hover-bg-color: #E2EBFA;\n",
              "      --hover-fill-color: #174EA6;\n",
              "      --disabled-fill-color: #AAA;\n",
              "      --disabled-bg-color: #DDD;\n",
              "  }\n",
              "\n",
              "  [theme=dark] .colab-df-quickchart {\n",
              "      --bg-color: #3B4455;\n",
              "      --fill-color: #D2E3FC;\n",
              "      --hover-bg-color: #434B5C;\n",
              "      --hover-fill-color: #FFFFFF;\n",
              "      --disabled-bg-color: #3B4455;\n",
              "      --disabled-fill-color: #666;\n",
              "  }\n",
              "\n",
              "  .colab-df-quickchart {\n",
              "    background-color: var(--bg-color);\n",
              "    border: none;\n",
              "    border-radius: 50%;\n",
              "    cursor: pointer;\n",
              "    display: none;\n",
              "    fill: var(--fill-color);\n",
              "    height: 32px;\n",
              "    padding: 0;\n",
              "    width: 32px;\n",
              "  }\n",
              "\n",
              "  .colab-df-quickchart:hover {\n",
              "    background-color: var(--hover-bg-color);\n",
              "    box-shadow: 0 1px 2px rgba(60, 64, 67, 0.3), 0 1px 3px 1px rgba(60, 64, 67, 0.15);\n",
              "    fill: var(--button-hover-fill-color);\n",
              "  }\n",
              "\n",
              "  .colab-df-quickchart-complete:disabled,\n",
              "  .colab-df-quickchart-complete:disabled:hover {\n",
              "    background-color: var(--disabled-bg-color);\n",
              "    fill: var(--disabled-fill-color);\n",
              "    box-shadow: none;\n",
              "  }\n",
              "\n",
              "  .colab-df-spinner {\n",
              "    border: 2px solid var(--fill-color);\n",
              "    border-color: transparent;\n",
              "    border-bottom-color: var(--fill-color);\n",
              "    animation:\n",
              "      spin 1s steps(1) infinite;\n",
              "  }\n",
              "\n",
              "  @keyframes spin {\n",
              "    0% {\n",
              "      border-color: transparent;\n",
              "      border-bottom-color: var(--fill-color);\n",
              "      border-left-color: var(--fill-color);\n",
              "    }\n",
              "    20% {\n",
              "      border-color: transparent;\n",
              "      border-left-color: var(--fill-color);\n",
              "      border-top-color: var(--fill-color);\n",
              "    }\n",
              "    30% {\n",
              "      border-color: transparent;\n",
              "      border-left-color: var(--fill-color);\n",
              "      border-top-color: var(--fill-color);\n",
              "      border-right-color: var(--fill-color);\n",
              "    }\n",
              "    40% {\n",
              "      border-color: transparent;\n",
              "      border-right-color: var(--fill-color);\n",
              "      border-top-color: var(--fill-color);\n",
              "    }\n",
              "    60% {\n",
              "      border-color: transparent;\n",
              "      border-right-color: var(--fill-color);\n",
              "    }\n",
              "    80% {\n",
              "      border-color: transparent;\n",
              "      border-right-color: var(--fill-color);\n",
              "      border-bottom-color: var(--fill-color);\n",
              "    }\n",
              "    90% {\n",
              "      border-color: transparent;\n",
              "      border-bottom-color: var(--fill-color);\n",
              "    }\n",
              "  }\n",
              "</style>\n",
              "\n",
              "  <script>\n",
              "    async function quickchart(key) {\n",
              "      const quickchartButtonEl =\n",
              "        document.querySelector('#' + key + ' button');\n",
              "      quickchartButtonEl.disabled = true;  // To prevent multiple clicks.\n",
              "      quickchartButtonEl.classList.add('colab-df-spinner');\n",
              "      try {\n",
              "        const charts = await google.colab.kernel.invokeFunction(\n",
              "            'suggestCharts', [key], {});\n",
              "      } catch (error) {\n",
              "        console.error('Error during call to suggestCharts:', error);\n",
              "      }\n",
              "      quickchartButtonEl.classList.remove('colab-df-spinner');\n",
              "      quickchartButtonEl.classList.add('colab-df-quickchart-complete');\n",
              "    }\n",
              "    (() => {\n",
              "      let quickchartButtonEl =\n",
              "        document.querySelector('#df-2cc53ea5-8093-4590-9ab2-329b0bc1ec19 button');\n",
              "      quickchartButtonEl.style.display =\n",
              "        google.colab.kernel.accessAllowed ? 'block' : 'none';\n",
              "    })();\n",
              "  </script>\n",
              "</div>\n",
              "\n",
              "    </div>\n",
              "  </div>\n"
            ],
            "application/vnd.google.colaboratory.intrinsic+json": {
              "type": "dataframe",
              "variable_name": "train",
              "summary": "{\n  \"name\": \"train\",\n  \"rows\": 10683,\n  \"fields\": [\n    {\n      \"column\": \"Airline\",\n      \"properties\": {\n        \"dtype\": \"category\",\n        \"num_unique_values\": 12,\n        \"samples\": [\n          \"Multiple carriers Premium economy\",\n          \"Jet Airways Business\",\n          \"IndiGo\"\n        ],\n        \"semantic_type\": \"\",\n        \"description\": \"\"\n      }\n    },\n    {\n      \"column\": \"Date_of_Journey\",\n      \"properties\": {\n        \"dtype\": \"object\",\n        \"num_unique_values\": 44,\n        \"samples\": [\n          \"27/03/2019\",\n          \"27/06/2019\",\n          \"21/05/2019\"\n        ],\n        \"semantic_type\": \"\",\n        \"description\": \"\"\n      }\n    },\n    {\n      \"column\": \"Source\",\n      \"properties\": {\n        \"dtype\": \"category\",\n        \"num_unique_values\": 5,\n        \"samples\": [\n          \"Kolkata\",\n          \"Mumbai\",\n          \"Delhi\"\n        ],\n        \"semantic_type\": \"\",\n        \"description\": \"\"\n      }\n    },\n    {\n      \"column\": \"Destination\",\n      \"properties\": {\n        \"dtype\": \"category\",\n        \"num_unique_values\": 6,\n        \"samples\": [\n          \"New Delhi\",\n          \"Banglore\",\n          \"Hyderabad\"\n        ],\n        \"semantic_type\": \"\",\n        \"description\": \"\"\n      }\n    },\n    {\n      \"column\": \"Route\",\n      \"properties\": {\n        \"dtype\": \"category\",\n        \"num_unique_values\": 128,\n        \"samples\": [\n          \"BLR ? PNQ ? DEL\",\n          \"CCU ? IXR ? DEL ? BLR\",\n          \"CCU ? MAA ? BLR\"\n        ],\n        \"semantic_type\": \"\",\n        \"description\": \"\"\n      }\n    },\n    {\n      \"column\": \"Dep_Time\",\n      \"properties\": {\n        \"dtype\": \"object\",\n        \"num_unique_values\": 222,\n        \"samples\": [\n          \"08:35\",\n          \"04:50\",\n          \"16:40\"\n        ],\n        \"semantic_type\": \"\",\n        \"description\": \"\"\n      }\n    },\n    {\n      \"column\": \"Arrival_Time\",\n      \"properties\": {\n        \"dtype\": \"object\",\n        \"num_unique_values\": 1343,\n        \"samples\": [\n          \"18:00 07 Jun\",\n          \"15:05 07 May\",\n          \"09:45 22 May\"\n        ],\n        \"semantic_type\": \"\",\n        \"description\": \"\"\n      }\n    },\n    {\n      \"column\": \"Duration\",\n      \"properties\": {\n        \"dtype\": \"category\",\n        \"num_unique_values\": 368,\n        \"samples\": [\n          \"4h 20m\",\n          \"11h 55m\",\n          \"4h 30m\"\n        ],\n        \"semantic_type\": \"\",\n        \"description\": \"\"\n      }\n    },\n    {\n      \"column\": \"Total_Stops\",\n      \"properties\": {\n        \"dtype\": \"category\",\n        \"num_unique_values\": 5,\n        \"samples\": [\n          \"2 stops\",\n          \"4 stops\",\n          \"1 stop\"\n        ],\n        \"semantic_type\": \"\",\n        \"description\": \"\"\n      }\n    },\n    {\n      \"column\": \"Additional_Info\",\n      \"properties\": {\n        \"dtype\": \"category\",\n        \"num_unique_values\": 10,\n        \"samples\": [\n          \"Red-eye flight\",\n          \"In-flight meal not included\",\n          \"1 Long layover\"\n        ],\n        \"semantic_type\": \"\",\n        \"description\": \"\"\n      }\n    },\n    {\n      \"column\": \"Price\",\n      \"properties\": {\n        \"dtype\": \"number\",\n        \"std\": 4611,\n        \"min\": 1759,\n        \"max\": 79512,\n        \"num_unique_values\": 1870,\n        \"samples\": [\n          10810,\n          4588,\n          10056\n        ],\n        \"semantic_type\": \"\",\n        \"description\": \"\"\n      }\n    }\n  ]\n}"
            }
          },
          "metadata": {},
          "execution_count": 12
        }
      ],
      "execution_count": 12
    },
    {
      "cell_type": "code",
      "source": [
        "test=pd.read_csv(testPath)\n",
        "test.head()"
      ],
      "metadata": {
        "execution": {
          "iopub.status.busy": "2024-07-15T10:57:36.297201Z",
          "iopub.execute_input": "2024-07-15T10:57:36.297558Z",
          "iopub.status.idle": "2024-07-15T10:57:36.327049Z",
          "shell.execute_reply.started": "2024-07-15T10:57:36.297527Z",
          "shell.execute_reply": "2024-07-15T10:57:36.325897Z"
        },
        "trusted": true,
        "id": "PsIdaWSs0kSH",
        "colab": {
          "base_uri": "https://localhost:8080/",
          "height": 206
        },
        "outputId": "7619b09f-ef8d-4508-a1a1-980111392cae"
      },
      "outputs": [
        {
          "output_type": "execute_result",
          "data": {
            "text/plain": [
              "             Airline Date_of_Journey    Source Destination            Route  \\\n",
              "0        Jet Airways       6/06/2019     Delhi      Cochin  DEL ? BOM ? COK   \n",
              "1             IndiGo      12/05/2019   Kolkata    Banglore  CCU ? MAA ? BLR   \n",
              "2        Jet Airways      21/05/2019     Delhi      Cochin  DEL ? BOM ? COK   \n",
              "3  Multiple carriers      21/05/2019     Delhi      Cochin  DEL ? BOM ? COK   \n",
              "4           Air Asia      24/06/2019  Banglore       Delhi        BLR ? DEL   \n",
              "\n",
              "  Dep_Time  Arrival_Time Duration Total_Stops              Additional_Info  \n",
              "0    17:30  04:25 07 Jun  10h 55m      1 stop                      No info  \n",
              "1    06:20         10:20       4h      1 stop                      No info  \n",
              "2    19:15  19:00 22 May  23h 45m      1 stop  In-flight meal not included  \n",
              "3    08:00         21:00      13h      1 stop                      No info  \n",
              "4    23:55  02:45 25 Jun   2h 50m    non-stop                      No info  "
            ],
            "text/html": [
              "\n",
              "  <div id=\"df-f83b1c8b-bb23-47e8-a3c9-b631a6a4ac92\" class=\"colab-df-container\">\n",
              "    <div>\n",
              "<style scoped>\n",
              "    .dataframe tbody tr th:only-of-type {\n",
              "        vertical-align: middle;\n",
              "    }\n",
              "\n",
              "    .dataframe tbody tr th {\n",
              "        vertical-align: top;\n",
              "    }\n",
              "\n",
              "    .dataframe thead th {\n",
              "        text-align: right;\n",
              "    }\n",
              "</style>\n",
              "<table border=\"1\" class=\"dataframe\">\n",
              "  <thead>\n",
              "    <tr style=\"text-align: right;\">\n",
              "      <th></th>\n",
              "      <th>Airline</th>\n",
              "      <th>Date_of_Journey</th>\n",
              "      <th>Source</th>\n",
              "      <th>Destination</th>\n",
              "      <th>Route</th>\n",
              "      <th>Dep_Time</th>\n",
              "      <th>Arrival_Time</th>\n",
              "      <th>Duration</th>\n",
              "      <th>Total_Stops</th>\n",
              "      <th>Additional_Info</th>\n",
              "    </tr>\n",
              "  </thead>\n",
              "  <tbody>\n",
              "    <tr>\n",
              "      <th>0</th>\n",
              "      <td>Jet Airways</td>\n",
              "      <td>6/06/2019</td>\n",
              "      <td>Delhi</td>\n",
              "      <td>Cochin</td>\n",
              "      <td>DEL ? BOM ? COK</td>\n",
              "      <td>17:30</td>\n",
              "      <td>04:25 07 Jun</td>\n",
              "      <td>10h 55m</td>\n",
              "      <td>1 stop</td>\n",
              "      <td>No info</td>\n",
              "    </tr>\n",
              "    <tr>\n",
              "      <th>1</th>\n",
              "      <td>IndiGo</td>\n",
              "      <td>12/05/2019</td>\n",
              "      <td>Kolkata</td>\n",
              "      <td>Banglore</td>\n",
              "      <td>CCU ? MAA ? BLR</td>\n",
              "      <td>06:20</td>\n",
              "      <td>10:20</td>\n",
              "      <td>4h</td>\n",
              "      <td>1 stop</td>\n",
              "      <td>No info</td>\n",
              "    </tr>\n",
              "    <tr>\n",
              "      <th>2</th>\n",
              "      <td>Jet Airways</td>\n",
              "      <td>21/05/2019</td>\n",
              "      <td>Delhi</td>\n",
              "      <td>Cochin</td>\n",
              "      <td>DEL ? BOM ? COK</td>\n",
              "      <td>19:15</td>\n",
              "      <td>19:00 22 May</td>\n",
              "      <td>23h 45m</td>\n",
              "      <td>1 stop</td>\n",
              "      <td>In-flight meal not included</td>\n",
              "    </tr>\n",
              "    <tr>\n",
              "      <th>3</th>\n",
              "      <td>Multiple carriers</td>\n",
              "      <td>21/05/2019</td>\n",
              "      <td>Delhi</td>\n",
              "      <td>Cochin</td>\n",
              "      <td>DEL ? BOM ? COK</td>\n",
              "      <td>08:00</td>\n",
              "      <td>21:00</td>\n",
              "      <td>13h</td>\n",
              "      <td>1 stop</td>\n",
              "      <td>No info</td>\n",
              "    </tr>\n",
              "    <tr>\n",
              "      <th>4</th>\n",
              "      <td>Air Asia</td>\n",
              "      <td>24/06/2019</td>\n",
              "      <td>Banglore</td>\n",
              "      <td>Delhi</td>\n",
              "      <td>BLR ? DEL</td>\n",
              "      <td>23:55</td>\n",
              "      <td>02:45 25 Jun</td>\n",
              "      <td>2h 50m</td>\n",
              "      <td>non-stop</td>\n",
              "      <td>No info</td>\n",
              "    </tr>\n",
              "  </tbody>\n",
              "</table>\n",
              "</div>\n",
              "    <div class=\"colab-df-buttons\">\n",
              "\n",
              "  <div class=\"colab-df-container\">\n",
              "    <button class=\"colab-df-convert\" onclick=\"convertToInteractive('df-f83b1c8b-bb23-47e8-a3c9-b631a6a4ac92')\"\n",
              "            title=\"Convert this dataframe to an interactive table.\"\n",
              "            style=\"display:none;\">\n",
              "\n",
              "  <svg xmlns=\"http://www.w3.org/2000/svg\" height=\"24px\" viewBox=\"0 -960 960 960\">\n",
              "    <path d=\"M120-120v-720h720v720H120Zm60-500h600v-160H180v160Zm220 220h160v-160H400v160Zm0 220h160v-160H400v160ZM180-400h160v-160H180v160Zm440 0h160v-160H620v160ZM180-180h160v-160H180v160Zm440 0h160v-160H620v160Z\"/>\n",
              "  </svg>\n",
              "    </button>\n",
              "\n",
              "  <style>\n",
              "    .colab-df-container {\n",
              "      display:flex;\n",
              "      gap: 12px;\n",
              "    }\n",
              "\n",
              "    .colab-df-convert {\n",
              "      background-color: #E8F0FE;\n",
              "      border: none;\n",
              "      border-radius: 50%;\n",
              "      cursor: pointer;\n",
              "      display: none;\n",
              "      fill: #1967D2;\n",
              "      height: 32px;\n",
              "      padding: 0 0 0 0;\n",
              "      width: 32px;\n",
              "    }\n",
              "\n",
              "    .colab-df-convert:hover {\n",
              "      background-color: #E2EBFA;\n",
              "      box-shadow: 0px 1px 2px rgba(60, 64, 67, 0.3), 0px 1px 3px 1px rgba(60, 64, 67, 0.15);\n",
              "      fill: #174EA6;\n",
              "    }\n",
              "\n",
              "    .colab-df-buttons div {\n",
              "      margin-bottom: 4px;\n",
              "    }\n",
              "\n",
              "    [theme=dark] .colab-df-convert {\n",
              "      background-color: #3B4455;\n",
              "      fill: #D2E3FC;\n",
              "    }\n",
              "\n",
              "    [theme=dark] .colab-df-convert:hover {\n",
              "      background-color: #434B5C;\n",
              "      box-shadow: 0px 1px 3px 1px rgba(0, 0, 0, 0.15);\n",
              "      filter: drop-shadow(0px 1px 2px rgba(0, 0, 0, 0.3));\n",
              "      fill: #FFFFFF;\n",
              "    }\n",
              "  </style>\n",
              "\n",
              "    <script>\n",
              "      const buttonEl =\n",
              "        document.querySelector('#df-f83b1c8b-bb23-47e8-a3c9-b631a6a4ac92 button.colab-df-convert');\n",
              "      buttonEl.style.display =\n",
              "        google.colab.kernel.accessAllowed ? 'block' : 'none';\n",
              "\n",
              "      async function convertToInteractive(key) {\n",
              "        const element = document.querySelector('#df-f83b1c8b-bb23-47e8-a3c9-b631a6a4ac92');\n",
              "        const dataTable =\n",
              "          await google.colab.kernel.invokeFunction('convertToInteractive',\n",
              "                                                    [key], {});\n",
              "        if (!dataTable) return;\n",
              "\n",
              "        const docLinkHtml = 'Like what you see? Visit the ' +\n",
              "          '<a target=\"_blank\" href=https://colab.research.google.com/notebooks/data_table.ipynb>data table notebook</a>'\n",
              "          + ' to learn more about interactive tables.';\n",
              "        element.innerHTML = '';\n",
              "        dataTable['output_type'] = 'display_data';\n",
              "        await google.colab.output.renderOutput(dataTable, element);\n",
              "        const docLink = document.createElement('div');\n",
              "        docLink.innerHTML = docLinkHtml;\n",
              "        element.appendChild(docLink);\n",
              "      }\n",
              "    </script>\n",
              "  </div>\n",
              "\n",
              "\n",
              "<div id=\"df-311d6012-8744-458f-ab8f-2568a60869d4\">\n",
              "  <button class=\"colab-df-quickchart\" onclick=\"quickchart('df-311d6012-8744-458f-ab8f-2568a60869d4')\"\n",
              "            title=\"Suggest charts\"\n",
              "            style=\"display:none;\">\n",
              "\n",
              "<svg xmlns=\"http://www.w3.org/2000/svg\" height=\"24px\"viewBox=\"0 0 24 24\"\n",
              "     width=\"24px\">\n",
              "    <g>\n",
              "        <path d=\"M19 3H5c-1.1 0-2 .9-2 2v14c0 1.1.9 2 2 2h14c1.1 0 2-.9 2-2V5c0-1.1-.9-2-2-2zM9 17H7v-7h2v7zm4 0h-2V7h2v10zm4 0h-2v-4h2v4z\"/>\n",
              "    </g>\n",
              "</svg>\n",
              "  </button>\n",
              "\n",
              "<style>\n",
              "  .colab-df-quickchart {\n",
              "      --bg-color: #E8F0FE;\n",
              "      --fill-color: #1967D2;\n",
              "      --hover-bg-color: #E2EBFA;\n",
              "      --hover-fill-color: #174EA6;\n",
              "      --disabled-fill-color: #AAA;\n",
              "      --disabled-bg-color: #DDD;\n",
              "  }\n",
              "\n",
              "  [theme=dark] .colab-df-quickchart {\n",
              "      --bg-color: #3B4455;\n",
              "      --fill-color: #D2E3FC;\n",
              "      --hover-bg-color: #434B5C;\n",
              "      --hover-fill-color: #FFFFFF;\n",
              "      --disabled-bg-color: #3B4455;\n",
              "      --disabled-fill-color: #666;\n",
              "  }\n",
              "\n",
              "  .colab-df-quickchart {\n",
              "    background-color: var(--bg-color);\n",
              "    border: none;\n",
              "    border-radius: 50%;\n",
              "    cursor: pointer;\n",
              "    display: none;\n",
              "    fill: var(--fill-color);\n",
              "    height: 32px;\n",
              "    padding: 0;\n",
              "    width: 32px;\n",
              "  }\n",
              "\n",
              "  .colab-df-quickchart:hover {\n",
              "    background-color: var(--hover-bg-color);\n",
              "    box-shadow: 0 1px 2px rgba(60, 64, 67, 0.3), 0 1px 3px 1px rgba(60, 64, 67, 0.15);\n",
              "    fill: var(--button-hover-fill-color);\n",
              "  }\n",
              "\n",
              "  .colab-df-quickchart-complete:disabled,\n",
              "  .colab-df-quickchart-complete:disabled:hover {\n",
              "    background-color: var(--disabled-bg-color);\n",
              "    fill: var(--disabled-fill-color);\n",
              "    box-shadow: none;\n",
              "  }\n",
              "\n",
              "  .colab-df-spinner {\n",
              "    border: 2px solid var(--fill-color);\n",
              "    border-color: transparent;\n",
              "    border-bottom-color: var(--fill-color);\n",
              "    animation:\n",
              "      spin 1s steps(1) infinite;\n",
              "  }\n",
              "\n",
              "  @keyframes spin {\n",
              "    0% {\n",
              "      border-color: transparent;\n",
              "      border-bottom-color: var(--fill-color);\n",
              "      border-left-color: var(--fill-color);\n",
              "    }\n",
              "    20% {\n",
              "      border-color: transparent;\n",
              "      border-left-color: var(--fill-color);\n",
              "      border-top-color: var(--fill-color);\n",
              "    }\n",
              "    30% {\n",
              "      border-color: transparent;\n",
              "      border-left-color: var(--fill-color);\n",
              "      border-top-color: var(--fill-color);\n",
              "      border-right-color: var(--fill-color);\n",
              "    }\n",
              "    40% {\n",
              "      border-color: transparent;\n",
              "      border-right-color: var(--fill-color);\n",
              "      border-top-color: var(--fill-color);\n",
              "    }\n",
              "    60% {\n",
              "      border-color: transparent;\n",
              "      border-right-color: var(--fill-color);\n",
              "    }\n",
              "    80% {\n",
              "      border-color: transparent;\n",
              "      border-right-color: var(--fill-color);\n",
              "      border-bottom-color: var(--fill-color);\n",
              "    }\n",
              "    90% {\n",
              "      border-color: transparent;\n",
              "      border-bottom-color: var(--fill-color);\n",
              "    }\n",
              "  }\n",
              "</style>\n",
              "\n",
              "  <script>\n",
              "    async function quickchart(key) {\n",
              "      const quickchartButtonEl =\n",
              "        document.querySelector('#' + key + ' button');\n",
              "      quickchartButtonEl.disabled = true;  // To prevent multiple clicks.\n",
              "      quickchartButtonEl.classList.add('colab-df-spinner');\n",
              "      try {\n",
              "        const charts = await google.colab.kernel.invokeFunction(\n",
              "            'suggestCharts', [key], {});\n",
              "      } catch (error) {\n",
              "        console.error('Error during call to suggestCharts:', error);\n",
              "      }\n",
              "      quickchartButtonEl.classList.remove('colab-df-spinner');\n",
              "      quickchartButtonEl.classList.add('colab-df-quickchart-complete');\n",
              "    }\n",
              "    (() => {\n",
              "      let quickchartButtonEl =\n",
              "        document.querySelector('#df-311d6012-8744-458f-ab8f-2568a60869d4 button');\n",
              "      quickchartButtonEl.style.display =\n",
              "        google.colab.kernel.accessAllowed ? 'block' : 'none';\n",
              "    })();\n",
              "  </script>\n",
              "</div>\n",
              "\n",
              "    </div>\n",
              "  </div>\n"
            ],
            "application/vnd.google.colaboratory.intrinsic+json": {
              "type": "dataframe",
              "variable_name": "test",
              "summary": "{\n  \"name\": \"test\",\n  \"rows\": 2671,\n  \"fields\": [\n    {\n      \"column\": \"Airline\",\n      \"properties\": {\n        \"dtype\": \"category\",\n        \"num_unique_values\": 11,\n        \"samples\": [\n          \"Vistara\",\n          \"Jet Airways\",\n          \"Multiple carriers Premium economy\"\n        ],\n        \"semantic_type\": \"\",\n        \"description\": \"\"\n      }\n    },\n    {\n      \"column\": \"Date_of_Journey\",\n      \"properties\": {\n        \"dtype\": \"category\",\n        \"num_unique_values\": 44,\n        \"samples\": [\n          \"09/03/2019\",\n          \"1/04/2019\",\n          \"18/06/2019\"\n        ],\n        \"semantic_type\": \"\",\n        \"description\": \"\"\n      }\n    },\n    {\n      \"column\": \"Source\",\n      \"properties\": {\n        \"dtype\": \"category\",\n        \"num_unique_values\": 5,\n        \"samples\": [\n          \"Kolkata\",\n          \"Chennai\",\n          \"Banglore\"\n        ],\n        \"semantic_type\": \"\",\n        \"description\": \"\"\n      }\n    },\n    {\n      \"column\": \"Destination\",\n      \"properties\": {\n        \"dtype\": \"category\",\n        \"num_unique_values\": 6,\n        \"samples\": [\n          \"Cochin\",\n          \"Banglore\",\n          \"Kolkata\"\n        ],\n        \"semantic_type\": \"\",\n        \"description\": \"\"\n      }\n    },\n    {\n      \"column\": \"Route\",\n      \"properties\": {\n        \"dtype\": \"category\",\n        \"num_unique_values\": 100,\n        \"samples\": [\n          \"BLR ? VGA ? VTZ ? DEL\",\n          \"BLR ? VGA ? DEL\",\n          \"BLR ? BOM ? IDR ? GWL ? DEL\"\n        ],\n        \"semantic_type\": \"\",\n        \"description\": \"\"\n      }\n    },\n    {\n      \"column\": \"Dep_Time\",\n      \"properties\": {\n        \"dtype\": \"object\",\n        \"num_unique_values\": 199,\n        \"samples\": [\n          \"08:30\",\n          \"13:15\",\n          \"12:50\"\n        ],\n        \"semantic_type\": \"\",\n        \"description\": \"\"\n      }\n    },\n    {\n      \"column\": \"Arrival_Time\",\n      \"properties\": {\n        \"dtype\": \"object\",\n        \"num_unique_values\": 704,\n        \"samples\": [\n          \"13:20\",\n          \"18:30\",\n          \"20:45\"\n        ],\n        \"semantic_type\": \"\",\n        \"description\": \"\"\n      }\n    },\n    {\n      \"column\": \"Duration\",\n      \"properties\": {\n        \"dtype\": \"category\",\n        \"num_unique_values\": 320,\n        \"samples\": [\n          \"14h\",\n          \"29h 35m\",\n          \"25h 30m\"\n        ],\n        \"semantic_type\": \"\",\n        \"description\": \"\"\n      }\n    },\n    {\n      \"column\": \"Total_Stops\",\n      \"properties\": {\n        \"dtype\": \"category\",\n        \"num_unique_values\": 5,\n        \"samples\": [\n          \"non-stop\",\n          \"4 stops\",\n          \"2 stops\"\n        ],\n        \"semantic_type\": \"\",\n        \"description\": \"\"\n      }\n    },\n    {\n      \"column\": \"Additional_Info\",\n      \"properties\": {\n        \"dtype\": \"category\",\n        \"num_unique_values\": 6,\n        \"samples\": [\n          \"No info\",\n          \"In-flight meal not included\",\n          \"Change airports\"\n        ],\n        \"semantic_type\": \"\",\n        \"description\": \"\"\n      }\n    }\n  ]\n}"
            }
          },
          "metadata": {},
          "execution_count": 15
        }
      ],
      "execution_count": 15
    },
    {
      "cell_type": "code",
      "source": [
        "flights =pd.concat([train,test])\n",
        "flights\n"
      ],
      "metadata": {
        "execution": {
          "iopub.status.busy": "2024-07-15T10:57:36.32882Z",
          "iopub.execute_input": "2024-07-15T10:57:36.329178Z",
          "iopub.status.idle": "2024-07-15T10:57:36.354347Z",
          "shell.execute_reply.started": "2024-07-15T10:57:36.329146Z",
          "shell.execute_reply": "2024-07-15T10:57:36.353147Z"
        },
        "trusted": true,
        "id": "SdP1rsxw0kSH"
      },
      "outputs": [],
      "execution_count": null
    },
    {
      "cell_type": "code",
      "source": [
        "final_df.info()"
      ],
      "metadata": {
        "execution": {
          "iopub.status.busy": "2024-07-15T10:57:36.35574Z",
          "iopub.execute_input": "2024-07-15T10:57:36.356175Z",
          "iopub.status.idle": "2024-07-15T10:57:36.385229Z",
          "shell.execute_reply.started": "2024-07-15T10:57:36.356133Z",
          "shell.execute_reply": "2024-07-15T10:57:36.383811Z"
        },
        "trusted": true,
        "id": "_lKHExRe0kSH"
      },
      "outputs": [],
      "execution_count": null
    },
    {
      "cell_type": "code",
      "source": [
        "## featuring engineering process\n",
        "final_df['Date']=final_df['Date_of_Journey'].str.split('/').str[0]\n",
        "final_df['Month']=final_df['Date_of_Journey'].str.split('/').str[1]\n",
        "final_df['Year']=final_df['Date_of_Journey'].str.split('/').str[2]"
      ],
      "metadata": {
        "execution": {
          "iopub.status.busy": "2024-07-15T10:57:36.387213Z",
          "iopub.execute_input": "2024-07-15T10:57:36.387641Z",
          "iopub.status.idle": "2024-07-15T10:57:36.548344Z",
          "shell.execute_reply.started": "2024-07-15T10:57:36.387601Z",
          "shell.execute_reply": "2024-07-15T10:57:36.54731Z"
        },
        "trusted": true,
        "id": "WFxh2PCD0kSI"
      },
      "outputs": [],
      "execution_count": null
    },
    {
      "cell_type": "code",
      "source": [
        "final_df=final_df.drop(['Date_of_Journey'],axis=1)"
      ],
      "metadata": {
        "execution": {
          "iopub.status.busy": "2024-07-15T10:57:36.549761Z",
          "iopub.execute_input": "2024-07-15T10:57:36.550191Z",
          "iopub.status.idle": "2024-07-15T10:57:36.560593Z",
          "shell.execute_reply.started": "2024-07-15T10:57:36.550152Z",
          "shell.execute_reply": "2024-07-15T10:57:36.559579Z"
        },
        "trusted": true,
        "id": "mx3GsU1j0kSI"
      },
      "outputs": [],
      "execution_count": null
    },
    {
      "cell_type": "code",
      "source": [
        "final_df.info()"
      ],
      "metadata": {
        "execution": {
          "iopub.status.busy": "2024-07-15T10:57:36.561939Z",
          "iopub.execute_input": "2024-07-15T10:57:36.562357Z",
          "iopub.status.idle": "2024-07-15T10:57:36.594599Z",
          "shell.execute_reply.started": "2024-07-15T10:57:36.562325Z",
          "shell.execute_reply": "2024-07-15T10:57:36.593451Z"
        },
        "trusted": true,
        "id": "cPuMVFQZ0kSI"
      },
      "outputs": [],
      "execution_count": null
    },
    {
      "cell_type": "code",
      "source": [
        "final_df['Date']=final_df['Date'].astype(int)\n",
        "final_df['Month']=final_df['Month'].astype(int)\n",
        "final_df['Year']=final_df['Year'].astype(int)"
      ],
      "metadata": {
        "execution": {
          "iopub.status.busy": "2024-07-15T10:57:36.59581Z",
          "iopub.execute_input": "2024-07-15T10:57:36.596152Z",
          "iopub.status.idle": "2024-07-15T10:57:36.610233Z",
          "shell.execute_reply.started": "2024-07-15T10:57:36.596122Z",
          "shell.execute_reply": "2024-07-15T10:57:36.609098Z"
        },
        "trusted": true,
        "id": "YdIKqO_p0kSI"
      },
      "outputs": [],
      "execution_count": null
    },
    {
      "cell_type": "code",
      "source": [
        "final_df.info()"
      ],
      "metadata": {
        "execution": {
          "iopub.status.busy": "2024-07-15T10:57:36.61178Z",
          "iopub.execute_input": "2024-07-15T10:57:36.612174Z",
          "iopub.status.idle": "2024-07-15T10:57:36.640108Z",
          "shell.execute_reply.started": "2024-07-15T10:57:36.612138Z",
          "shell.execute_reply": "2024-07-15T10:57:36.639059Z"
        },
        "trusted": true,
        "id": "ahAGBU0u0kSI"
      },
      "outputs": [],
      "execution_count": null
    },
    {
      "cell_type": "code",
      "source": [
        "## 1st way\n",
        "final_df['Arrival_Time'].str.split(' ').str[0]"
      ],
      "metadata": {
        "execution": {
          "iopub.status.busy": "2024-07-15T10:57:36.641517Z",
          "iopub.execute_input": "2024-07-15T10:57:36.641911Z",
          "iopub.status.idle": "2024-07-15T10:57:36.672796Z",
          "shell.execute_reply.started": "2024-07-15T10:57:36.641869Z",
          "shell.execute_reply": "2024-07-15T10:57:36.671593Z"
        },
        "trusted": true,
        "id": "xP3GQirb0kSI"
      },
      "outputs": [],
      "execution_count": null
    },
    {
      "cell_type": "code",
      "source": [
        "## 2nd way\n",
        "final_df['Arrival_Time'] =final_df['Arrival_Time'].apply(lambda x: x.split(' ')[0])"
      ],
      "metadata": {
        "execution": {
          "iopub.status.busy": "2024-07-15T10:57:36.680937Z",
          "iopub.execute_input": "2024-07-15T10:57:36.681348Z",
          "iopub.status.idle": "2024-07-15T10:57:36.695317Z",
          "shell.execute_reply.started": "2024-07-15T10:57:36.681313Z",
          "shell.execute_reply": "2024-07-15T10:57:36.693956Z"
        },
        "trusted": true,
        "id": "SXmW7wN00kSJ"
      },
      "outputs": [],
      "execution_count": null
    },
    {
      "cell_type": "code",
      "source": [
        "final_df.head()"
      ],
      "metadata": {
        "execution": {
          "iopub.status.busy": "2024-07-15T10:57:36.696992Z",
          "iopub.execute_input": "2024-07-15T10:57:36.697695Z",
          "iopub.status.idle": "2024-07-15T10:57:36.719783Z",
          "shell.execute_reply.started": "2024-07-15T10:57:36.697655Z",
          "shell.execute_reply": "2024-07-15T10:57:36.718655Z"
        },
        "trusted": true,
        "id": "9w6Y0QNc0kSJ"
      },
      "outputs": [],
      "execution_count": null
    },
    {
      "cell_type": "code",
      "source": [
        "final_df.isnull().sum()"
      ],
      "metadata": {
        "execution": {
          "iopub.status.busy": "2024-07-15T10:57:36.721225Z",
          "iopub.execute_input": "2024-07-15T10:57:36.721655Z",
          "iopub.status.idle": "2024-07-15T10:57:36.744945Z",
          "shell.execute_reply.started": "2024-07-15T10:57:36.721615Z",
          "shell.execute_reply": "2024-07-15T10:57:36.743766Z"
        },
        "trusted": true,
        "id": "Xv5p5AnR0kSJ"
      },
      "outputs": [],
      "execution_count": null
    },
    {
      "cell_type": "code",
      "source": [
        "final_df['Arrival_hour']=final_df['Arrival_Time'].str.split(':').str[0]\n",
        "final_df['Arrival_min']=final_df['Arrival_Time'].str.split(':').str[1]\n"
      ],
      "metadata": {
        "execution": {
          "iopub.status.busy": "2024-07-15T10:57:36.74655Z",
          "iopub.execute_input": "2024-07-15T10:57:36.74689Z",
          "iopub.status.idle": "2024-07-15T10:57:36.797416Z",
          "shell.execute_reply.started": "2024-07-15T10:57:36.746858Z",
          "shell.execute_reply": "2024-07-15T10:57:36.796359Z"
        },
        "trusted": true,
        "id": "Sg_f7OUl0kSJ"
      },
      "outputs": [],
      "execution_count": null
    },
    {
      "cell_type": "code",
      "source": [
        "final_df"
      ],
      "metadata": {
        "execution": {
          "iopub.status.busy": "2024-07-15T10:57:36.798858Z",
          "iopub.execute_input": "2024-07-15T10:57:36.799272Z",
          "iopub.status.idle": "2024-07-15T10:57:36.823284Z",
          "shell.execute_reply.started": "2024-07-15T10:57:36.799234Z",
          "shell.execute_reply": "2024-07-15T10:57:36.822086Z"
        },
        "trusted": true,
        "id": "24uzsOTI0kSJ"
      },
      "outputs": [],
      "execution_count": null
    },
    {
      "cell_type": "code",
      "source": [
        "final_df['Arrival_hour']=final_df['Arrival_hour'].astype(int)\n",
        "final_df['Arrival_min']=final_df['Arrival_min'].astype(int)\n"
      ],
      "metadata": {
        "execution": {
          "iopub.status.busy": "2024-07-15T10:57:36.824867Z",
          "iopub.execute_input": "2024-07-15T10:57:36.825308Z",
          "iopub.status.idle": "2024-07-15T10:57:36.837774Z",
          "shell.execute_reply.started": "2024-07-15T10:57:36.825265Z",
          "shell.execute_reply": "2024-07-15T10:57:36.836447Z"
        },
        "trusted": true,
        "id": "KrhuVKtP0kSJ"
      },
      "outputs": [],
      "execution_count": null
    },
    {
      "cell_type": "code",
      "source": [
        "final_df.info()"
      ],
      "metadata": {
        "execution": {
          "iopub.status.busy": "2024-07-15T10:57:36.839436Z",
          "iopub.execute_input": "2024-07-15T10:57:36.83987Z",
          "iopub.status.idle": "2024-07-15T10:57:36.871538Z",
          "shell.execute_reply.started": "2024-07-15T10:57:36.83983Z",
          "shell.execute_reply": "2024-07-15T10:57:36.870345Z"
        },
        "trusted": true,
        "id": "FPhe8DBF0kSJ"
      },
      "outputs": [],
      "execution_count": null
    },
    {
      "cell_type": "code",
      "source": [
        "final_df.drop(['Arrival_Time'],axis=1,inplace=True)"
      ],
      "metadata": {
        "execution": {
          "iopub.status.busy": "2024-07-15T10:57:36.874856Z",
          "iopub.execute_input": "2024-07-15T10:57:36.875221Z",
          "iopub.status.idle": "2024-07-15T10:57:36.884075Z",
          "shell.execute_reply.started": "2024-07-15T10:57:36.875188Z",
          "shell.execute_reply": "2024-07-15T10:57:36.882972Z"
        },
        "trusted": true,
        "id": "UIAfP_N30kSJ"
      },
      "outputs": [],
      "execution_count": null
    },
    {
      "cell_type": "code",
      "source": [
        "final_df.head()"
      ],
      "metadata": {
        "execution": {
          "iopub.status.busy": "2024-07-15T10:57:36.885514Z",
          "iopub.execute_input": "2024-07-15T10:57:36.885909Z",
          "iopub.status.idle": "2024-07-15T10:57:36.907273Z",
          "shell.execute_reply.started": "2024-07-15T10:57:36.885878Z",
          "shell.execute_reply": "2024-07-15T10:57:36.906017Z"
        },
        "trusted": true,
        "id": "dhrmtoIz0kSJ"
      },
      "outputs": [],
      "execution_count": null
    },
    {
      "cell_type": "code",
      "source": [
        "## Converting departure time to int"
      ],
      "metadata": {
        "execution": {
          "iopub.status.busy": "2024-07-15T10:57:36.908794Z",
          "iopub.execute_input": "2024-07-15T10:57:36.909247Z",
          "iopub.status.idle": "2024-07-15T10:57:36.914742Z",
          "shell.execute_reply.started": "2024-07-15T10:57:36.909203Z",
          "shell.execute_reply": "2024-07-15T10:57:36.913759Z"
        },
        "trusted": true,
        "id": "F2H7Qmkr0kSJ"
      },
      "outputs": [],
      "execution_count": null
    },
    {
      "cell_type": "code",
      "source": [
        "final_df['Dep_hour']=final_df['Dep_Time'].str.split(':').str[0]\n",
        "final_df['Dep_min']=final_df['Dep_Time'].str.split(':').str[1]\n"
      ],
      "metadata": {
        "execution": {
          "iopub.status.busy": "2024-07-15T10:57:36.915897Z",
          "iopub.execute_input": "2024-07-15T10:57:36.916231Z",
          "iopub.status.idle": "2024-07-15T10:57:37.050474Z",
          "shell.execute_reply.started": "2024-07-15T10:57:36.916202Z",
          "shell.execute_reply": "2024-07-15T10:57:37.049352Z"
        },
        "trusted": true,
        "id": "1Pkjdq490kSJ"
      },
      "outputs": [],
      "execution_count": null
    },
    {
      "cell_type": "code",
      "source": [
        "final_df"
      ],
      "metadata": {
        "execution": {
          "iopub.status.busy": "2024-07-15T10:57:37.051883Z",
          "iopub.execute_input": "2024-07-15T10:57:37.052327Z",
          "iopub.status.idle": "2024-07-15T10:57:37.076587Z",
          "shell.execute_reply.started": "2024-07-15T10:57:37.052283Z",
          "shell.execute_reply": "2024-07-15T10:57:37.075351Z"
        },
        "trusted": true,
        "id": "CQWaXUSB0kSJ"
      },
      "outputs": [],
      "execution_count": null
    },
    {
      "cell_type": "code",
      "source": [
        "final_df['Dep_hour']=final_df['Dep_hour'].astype(int)\n",
        "final_df['Dep_min']=final_df['Dep_min'].astype(int)\n"
      ],
      "metadata": {
        "execution": {
          "iopub.status.busy": "2024-07-15T10:57:37.078198Z",
          "iopub.execute_input": "2024-07-15T10:57:37.078613Z",
          "iopub.status.idle": "2024-07-15T10:57:37.093732Z",
          "shell.execute_reply.started": "2024-07-15T10:57:37.078575Z",
          "shell.execute_reply": "2024-07-15T10:57:37.092484Z"
        },
        "trusted": true,
        "id": "D0nCnamA0kSJ"
      },
      "outputs": [],
      "execution_count": null
    },
    {
      "cell_type": "code",
      "source": [
        "final_df.info()"
      ],
      "metadata": {
        "execution": {
          "iopub.status.busy": "2024-07-15T10:57:37.095388Z",
          "iopub.execute_input": "2024-07-15T10:57:37.095786Z",
          "iopub.status.idle": "2024-07-15T10:57:37.125404Z",
          "shell.execute_reply.started": "2024-07-15T10:57:37.095749Z",
          "shell.execute_reply": "2024-07-15T10:57:37.124175Z"
        },
        "trusted": true,
        "id": "RhlqtJQJ0kSJ"
      },
      "outputs": [],
      "execution_count": null
    },
    {
      "cell_type": "code",
      "source": [
        "final_df.drop(['Dep_Time'],axis=1,inplace=True)"
      ],
      "metadata": {
        "execution": {
          "iopub.status.busy": "2024-07-15T10:57:37.126893Z",
          "iopub.execute_input": "2024-07-15T10:57:37.127258Z",
          "iopub.status.idle": "2024-07-15T10:57:37.135685Z",
          "shell.execute_reply.started": "2024-07-15T10:57:37.127227Z",
          "shell.execute_reply": "2024-07-15T10:57:37.134399Z"
        },
        "trusted": true,
        "id": "ZwPzbKV40kSJ"
      },
      "outputs": [],
      "execution_count": null
    },
    {
      "cell_type": "code",
      "source": [
        "final_df.head()"
      ],
      "metadata": {
        "execution": {
          "iopub.status.busy": "2024-07-15T10:57:37.136991Z",
          "iopub.execute_input": "2024-07-15T10:57:37.137354Z",
          "iopub.status.idle": "2024-07-15T10:57:37.156593Z",
          "shell.execute_reply.started": "2024-07-15T10:57:37.137325Z",
          "shell.execute_reply": "2024-07-15T10:57:37.155267Z"
        },
        "trusted": true,
        "id": "thH1VPtl0kSJ"
      },
      "outputs": [],
      "execution_count": null
    },
    {
      "cell_type": "code",
      "source": [
        "final_df.info()"
      ],
      "metadata": {
        "execution": {
          "iopub.status.busy": "2024-07-15T10:57:37.15796Z",
          "iopub.execute_input": "2024-07-15T10:57:37.15839Z",
          "iopub.status.idle": "2024-07-15T10:57:37.183333Z",
          "shell.execute_reply.started": "2024-07-15T10:57:37.15835Z",
          "shell.execute_reply": "2024-07-15T10:57:37.182206Z"
        },
        "trusted": true,
        "id": "7LUlH3Jk0kSJ"
      },
      "outputs": [],
      "execution_count": null
    },
    {
      "cell_type": "code",
      "source": [
        "final_df['Total_Stops'].unique()"
      ],
      "metadata": {
        "execution": {
          "iopub.status.busy": "2024-07-15T10:57:37.184803Z",
          "iopub.execute_input": "2024-07-15T10:57:37.185193Z",
          "iopub.status.idle": "2024-07-15T10:57:37.19382Z",
          "shell.execute_reply.started": "2024-07-15T10:57:37.185162Z",
          "shell.execute_reply": "2024-07-15T10:57:37.192477Z"
        },
        "trusted": true,
        "id": "y6fnFyw-0kSJ"
      },
      "outputs": [],
      "execution_count": null
    },
    {
      "cell_type": "code",
      "source": [
        "final_df[final_df['Total_Stops'].isnull()]"
      ],
      "metadata": {
        "execution": {
          "iopub.status.busy": "2024-07-15T10:57:37.195404Z",
          "iopub.execute_input": "2024-07-15T10:57:37.195798Z",
          "iopub.status.idle": "2024-07-15T10:57:37.217937Z",
          "shell.execute_reply.started": "2024-07-15T10:57:37.195756Z",
          "shell.execute_reply": "2024-07-15T10:57:37.216624Z"
        },
        "trusted": true,
        "id": "dGnnNXrq0kSJ"
      },
      "outputs": [],
      "execution_count": null
    },
    {
      "cell_type": "code",
      "source": [
        "final_df['Total_Stops']=final_df['Total_Stops'].map({'non-stop':0,'1 stop':1,'2 stops':2,'3 stops':3,'4 stops':4})\n",
        "final_df['Total_Stops']=final_df['Total_Stops'].fillna(1)"
      ],
      "metadata": {
        "execution": {
          "iopub.status.busy": "2024-07-15T10:57:37.219312Z",
          "iopub.execute_input": "2024-07-15T10:57:37.219684Z",
          "iopub.status.idle": "2024-07-15T10:57:37.230139Z",
          "shell.execute_reply.started": "2024-07-15T10:57:37.219652Z",
          "shell.execute_reply": "2024-07-15T10:57:37.228876Z"
        },
        "trusted": true,
        "id": "cpZDsa3U0kSK"
      },
      "outputs": [],
      "execution_count": null
    },
    {
      "cell_type": "code",
      "source": [
        "final_df"
      ],
      "metadata": {
        "execution": {
          "iopub.status.busy": "2024-07-15T10:57:37.23167Z",
          "iopub.execute_input": "2024-07-15T10:57:37.2321Z",
          "iopub.status.idle": "2024-07-15T10:57:37.258739Z",
          "shell.execute_reply.started": "2024-07-15T10:57:37.232064Z",
          "shell.execute_reply": "2024-07-15T10:57:37.257561Z"
        },
        "trusted": true,
        "id": "THNeZjfd0kSK"
      },
      "outputs": [],
      "execution_count": null
    },
    {
      "cell_type": "code",
      "source": [
        "final_df.drop('Route',axis=1,inplace=True)"
      ],
      "metadata": {
        "execution": {
          "iopub.status.busy": "2024-07-15T10:57:37.260243Z",
          "iopub.execute_input": "2024-07-15T10:57:37.260578Z",
          "iopub.status.idle": "2024-07-15T10:57:37.269347Z",
          "shell.execute_reply.started": "2024-07-15T10:57:37.260549Z",
          "shell.execute_reply": "2024-07-15T10:57:37.268225Z"
        },
        "trusted": true,
        "id": "04lYz6HT0kSK"
      },
      "outputs": [],
      "execution_count": null
    },
    {
      "cell_type": "code",
      "source": [
        "final_df.head()"
      ],
      "metadata": {
        "execution": {
          "iopub.status.busy": "2024-07-15T10:57:37.27097Z",
          "iopub.execute_input": "2024-07-15T10:57:37.271424Z",
          "iopub.status.idle": "2024-07-15T10:57:37.292053Z",
          "shell.execute_reply.started": "2024-07-15T10:57:37.271371Z",
          "shell.execute_reply": "2024-07-15T10:57:37.290931Z"
        },
        "trusted": true,
        "id": "OzhT1Mxq0kSK"
      },
      "outputs": [],
      "execution_count": null
    },
    {
      "cell_type": "code",
      "source": [
        "final_df['Additional_Info'].unique()"
      ],
      "metadata": {
        "execution": {
          "iopub.status.busy": "2024-07-15T10:57:37.293602Z",
          "iopub.execute_input": "2024-07-15T10:57:37.294058Z",
          "iopub.status.idle": "2024-07-15T10:57:37.305494Z",
          "shell.execute_reply.started": "2024-07-15T10:57:37.294016Z",
          "shell.execute_reply": "2024-07-15T10:57:37.304352Z"
        },
        "trusted": true,
        "id": "s6P4tgaz0kSK"
      },
      "outputs": [],
      "execution_count": null
    },
    {
      "cell_type": "code",
      "source": [
        "final_df['Duration_hour']=final_df['Duration'].str.split(' ').str[0].str.split('h').str[0]\n",
        "final_df['Duration_min']=final_df['Duration'].str.split(' ').str[1].str.split('m').str[0]"
      ],
      "metadata": {
        "execution": {
          "iopub.status.busy": "2024-07-15T10:57:37.307137Z",
          "iopub.execute_input": "2024-07-15T10:57:37.3078Z",
          "iopub.status.idle": "2024-07-15T10:57:37.401401Z",
          "shell.execute_reply.started": "2024-07-15T10:57:37.307759Z",
          "shell.execute_reply": "2024-07-15T10:57:37.400251Z"
        },
        "trusted": true,
        "id": "-7SPS0mD0kSK"
      },
      "outputs": [],
      "execution_count": null
    },
    {
      "cell_type": "code",
      "source": [
        "final_df['Duration_min']=final_df['Duration_min'].fillna(0)"
      ],
      "metadata": {
        "execution": {
          "iopub.status.busy": "2024-07-15T10:57:37.402702Z",
          "iopub.execute_input": "2024-07-15T10:57:37.403063Z",
          "iopub.status.idle": "2024-07-15T10:57:37.412961Z",
          "shell.execute_reply.started": "2024-07-15T10:57:37.403025Z",
          "shell.execute_reply": "2024-07-15T10:57:37.411591Z"
        },
        "trusted": true,
        "id": "mtmZxq9B0kSK"
      },
      "outputs": [],
      "execution_count": null
    },
    {
      "cell_type": "code",
      "source": [
        "final_df.isnull().sum()"
      ],
      "metadata": {
        "execution": {
          "iopub.status.busy": "2024-07-15T10:57:37.414751Z",
          "iopub.execute_input": "2024-07-15T10:57:37.415204Z",
          "iopub.status.idle": "2024-07-15T10:57:37.438842Z",
          "shell.execute_reply.started": "2024-07-15T10:57:37.415161Z",
          "shell.execute_reply": "2024-07-15T10:57:37.437654Z"
        },
        "trusted": true,
        "id": "nfL384sQ0kSN"
      },
      "outputs": [],
      "execution_count": null
    },
    {
      "cell_type": "code",
      "source": [
        "final_df[final_df['Duration_hour']=='5m']"
      ],
      "metadata": {
        "execution": {
          "iopub.status.busy": "2024-07-15T10:57:37.449776Z",
          "iopub.execute_input": "2024-07-15T10:57:37.450206Z",
          "iopub.status.idle": "2024-07-15T10:57:37.472857Z",
          "shell.execute_reply.started": "2024-07-15T10:57:37.450169Z",
          "shell.execute_reply": "2024-07-15T10:57:37.471581Z"
        },
        "trusted": true,
        "id": "LYKQ9AGC0kSN"
      },
      "outputs": [],
      "execution_count": null
    },
    {
      "cell_type": "code",
      "source": [
        "final_df.drop(6474,axis=0,inplace=True)\n",
        "final_df.drop(2660,axis=0,inplace=True)"
      ],
      "metadata": {
        "execution": {
          "iopub.status.busy": "2024-07-15T10:57:37.474415Z",
          "iopub.execute_input": "2024-07-15T10:57:37.47539Z",
          "iopub.status.idle": "2024-07-15T10:57:37.500271Z",
          "shell.execute_reply.started": "2024-07-15T10:57:37.475328Z",
          "shell.execute_reply": "2024-07-15T10:57:37.498863Z"
        },
        "trusted": true,
        "id": "stowdfbp0kSO"
      },
      "outputs": [],
      "execution_count": null
    },
    {
      "cell_type": "code",
      "source": [
        "final_df['Duration_hour']=final_df['Duration_hour'].astype(int)\n",
        "final_df['Duration_min']=final_df['Duration_min'].astype(int)"
      ],
      "metadata": {
        "execution": {
          "iopub.status.busy": "2024-07-15T10:57:37.501734Z",
          "iopub.execute_input": "2024-07-15T10:57:37.502136Z",
          "iopub.status.idle": "2024-07-15T10:57:37.514412Z",
          "shell.execute_reply.started": "2024-07-15T10:57:37.502096Z",
          "shell.execute_reply": "2024-07-15T10:57:37.513084Z"
        },
        "trusted": true,
        "id": "RIlQtH_60kSO"
      },
      "outputs": [],
      "execution_count": null
    },
    {
      "cell_type": "code",
      "source": [
        "final_df.head()"
      ],
      "metadata": {
        "execution": {
          "iopub.status.busy": "2024-07-15T10:57:37.51626Z",
          "iopub.execute_input": "2024-07-15T10:57:37.516688Z",
          "iopub.status.idle": "2024-07-15T10:57:37.540455Z",
          "shell.execute_reply.started": "2024-07-15T10:57:37.516647Z",
          "shell.execute_reply": "2024-07-15T10:57:37.539025Z"
        },
        "trusted": true,
        "id": "5Enyx7V80kSO"
      },
      "outputs": [],
      "execution_count": null
    },
    {
      "cell_type": "code",
      "source": [
        "from sklearn.preprocessing import LabelEncoder\n",
        "label=LabelEncoder()\n",
        "final_df['Airline']=label.fit_transform(final_df['Airline'])\n",
        "final_df['Source']=label.fit_transform(final_df['Source'])\n",
        "final_df['Destination']=label.fit_transform(final_df['Destination'])\n",
        "final_df['Additional_Info']=label.fit_transform(final_df['Additional_Info'])"
      ],
      "metadata": {
        "execution": {
          "iopub.status.busy": "2024-07-15T10:57:37.541682Z",
          "iopub.execute_input": "2024-07-15T10:57:37.542042Z",
          "iopub.status.idle": "2024-07-15T10:57:37.615792Z",
          "shell.execute_reply.started": "2024-07-15T10:57:37.541986Z",
          "shell.execute_reply": "2024-07-15T10:57:37.614796Z"
        },
        "trusted": true,
        "id": "aW3v86g30kSO"
      },
      "outputs": [],
      "execution_count": null
    },
    {
      "cell_type": "code",
      "source": [
        "final_df"
      ],
      "metadata": {
        "execution": {
          "iopub.status.busy": "2024-07-15T10:57:37.617462Z",
          "iopub.execute_input": "2024-07-15T10:57:37.617853Z",
          "iopub.status.idle": "2024-07-15T10:57:37.64104Z",
          "shell.execute_reply.started": "2024-07-15T10:57:37.617811Z",
          "shell.execute_reply": "2024-07-15T10:57:37.639855Z"
        },
        "trusted": true,
        "id": "vHyowfBX0kSO"
      },
      "outputs": [],
      "execution_count": null
    },
    {
      "cell_type": "code",
      "source": [
        "final_df['Duration']=final_df['Duration_hour']*60+final_df['Duration_min']"
      ],
      "metadata": {
        "execution": {
          "iopub.status.busy": "2024-07-15T10:57:37.642824Z",
          "iopub.execute_input": "2024-07-15T10:57:37.643313Z",
          "iopub.status.idle": "2024-07-15T10:57:37.650366Z",
          "shell.execute_reply.started": "2024-07-15T10:57:37.643272Z",
          "shell.execute_reply": "2024-07-15T10:57:37.64934Z"
        },
        "trusted": true,
        "id": "eQsviNY60kSO"
      },
      "outputs": [],
      "execution_count": null
    },
    {
      "cell_type": "code",
      "source": [
        "final_df.drop(['Duration_hour','Duration_min'],axis=1,inplace=True)"
      ],
      "metadata": {
        "execution": {
          "iopub.status.busy": "2024-07-15T10:57:37.651877Z",
          "iopub.execute_input": "2024-07-15T10:57:37.652323Z",
          "iopub.status.idle": "2024-07-15T10:57:37.661639Z",
          "shell.execute_reply.started": "2024-07-15T10:57:37.652284Z",
          "shell.execute_reply": "2024-07-15T10:57:37.660472Z"
        },
        "trusted": true,
        "id": "pPxu8oJH0kSO"
      },
      "outputs": [],
      "execution_count": null
    },
    {
      "cell_type": "code",
      "source": [
        "final_df.info()"
      ],
      "metadata": {
        "execution": {
          "iopub.status.busy": "2024-07-15T10:57:37.663032Z",
          "iopub.execute_input": "2024-07-15T10:57:37.663432Z",
          "iopub.status.idle": "2024-07-15T10:57:37.679475Z",
          "shell.execute_reply.started": "2024-07-15T10:57:37.663401Z",
          "shell.execute_reply": "2024-07-15T10:57:37.678219Z"
        },
        "trusted": true,
        "id": "69WXUsPR0kSO"
      },
      "outputs": [],
      "execution_count": null
    },
    {
      "cell_type": "code",
      "source": [
        "final_df.isnull().sum()"
      ],
      "metadata": {
        "execution": {
          "iopub.status.busy": "2024-07-15T10:57:37.680701Z",
          "iopub.execute_input": "2024-07-15T10:57:37.681146Z",
          "iopub.status.idle": "2024-07-15T10:57:37.692911Z",
          "shell.execute_reply.started": "2024-07-15T10:57:37.681103Z",
          "shell.execute_reply": "2024-07-15T10:57:37.691702Z"
        },
        "trusted": true,
        "id": "DCxVISmP0kSO"
      },
      "outputs": [],
      "execution_count": null
    },
    {
      "cell_type": "code",
      "source": [
        "df1=pd.get_dummies(final_df,columns=[\"Airline\",\"Source\",\"Destination\",\"Additional_Info\"],drop_first=True,dtype=int)"
      ],
      "metadata": {
        "execution": {
          "iopub.status.busy": "2024-07-15T10:57:37.694546Z",
          "iopub.execute_input": "2024-07-15T10:57:37.694982Z",
          "iopub.status.idle": "2024-07-15T10:57:37.718824Z",
          "shell.execute_reply.started": "2024-07-15T10:57:37.694938Z",
          "shell.execute_reply": "2024-07-15T10:57:37.717852Z"
        },
        "trusted": true,
        "id": "J0XD48ho0kSO"
      },
      "outputs": [],
      "execution_count": null
    },
    {
      "cell_type": "code",
      "source": [
        "df1.info()"
      ],
      "metadata": {
        "execution": {
          "iopub.status.busy": "2024-07-15T10:57:37.719987Z",
          "iopub.execute_input": "2024-07-15T10:57:37.720363Z",
          "iopub.status.idle": "2024-07-15T10:57:37.738153Z",
          "shell.execute_reply.started": "2024-07-15T10:57:37.720326Z",
          "shell.execute_reply": "2024-07-15T10:57:37.737028Z"
        },
        "trusted": true,
        "id": "3VXubAvX0kSO"
      },
      "outputs": [],
      "execution_count": null
    },
    {
      "cell_type": "code",
      "source": [
        "df1.head()"
      ],
      "metadata": {
        "execution": {
          "iopub.status.busy": "2024-07-15T10:57:37.739479Z",
          "iopub.execute_input": "2024-07-15T10:57:37.739796Z",
          "iopub.status.idle": "2024-07-15T10:57:37.76538Z",
          "shell.execute_reply.started": "2024-07-15T10:57:37.739768Z",
          "shell.execute_reply": "2024-07-15T10:57:37.763831Z"
        },
        "trusted": true,
        "id": "1BbP9_6y0kSO"
      },
      "outputs": [],
      "execution_count": null
    },
    {
      "cell_type": "code",
      "source": [
        "df1.isnull().sum()"
      ],
      "metadata": {
        "execution": {
          "iopub.status.busy": "2024-07-15T10:57:37.766789Z",
          "iopub.execute_input": "2024-07-15T10:57:37.767229Z",
          "iopub.status.idle": "2024-07-15T10:57:37.779529Z",
          "shell.execute_reply.started": "2024-07-15T10:57:37.767187Z",
          "shell.execute_reply": "2024-07-15T10:57:37.77823Z"
        },
        "trusted": true,
        "id": "MEoyKR_50kSO"
      },
      "outputs": [],
      "execution_count": null
    },
    {
      "cell_type": "code",
      "source": [
        "test=df1[df1['Price'].isnull()]"
      ],
      "metadata": {
        "execution": {
          "iopub.status.busy": "2024-07-15T10:57:37.780738Z",
          "iopub.execute_input": "2024-07-15T10:57:37.781078Z",
          "iopub.status.idle": "2024-07-15T10:57:37.788192Z",
          "shell.execute_reply.started": "2024-07-15T10:57:37.781046Z",
          "shell.execute_reply": "2024-07-15T10:57:37.786968Z"
        },
        "trusted": true,
        "id": "4cQEn6Vu0kSO"
      },
      "outputs": [],
      "execution_count": null
    },
    {
      "cell_type": "code",
      "source": [
        "test"
      ],
      "metadata": {
        "execution": {
          "iopub.status.busy": "2024-07-15T10:57:37.789544Z",
          "iopub.execute_input": "2024-07-15T10:57:37.790521Z",
          "iopub.status.idle": "2024-07-15T10:57:37.817771Z",
          "shell.execute_reply.started": "2024-07-15T10:57:37.790479Z",
          "shell.execute_reply": "2024-07-15T10:57:37.816753Z"
        },
        "trusted": true,
        "id": "ZVIKoOQr0kSO"
      },
      "outputs": [],
      "execution_count": null
    },
    {
      "cell_type": "code",
      "source": [
        "train=df1[~df1['Price'].isnull()]"
      ],
      "metadata": {
        "execution": {
          "iopub.status.busy": "2024-07-15T10:57:37.819263Z",
          "iopub.execute_input": "2024-07-15T10:57:37.819589Z",
          "iopub.status.idle": "2024-07-15T10:57:37.82727Z",
          "shell.execute_reply.started": "2024-07-15T10:57:37.819561Z",
          "shell.execute_reply": "2024-07-15T10:57:37.826163Z"
        },
        "trusted": true,
        "id": "e0nSPs1s0kSO"
      },
      "outputs": [],
      "execution_count": null
    },
    {
      "cell_type": "code",
      "source": [
        "train"
      ],
      "metadata": {
        "execution": {
          "iopub.status.busy": "2024-07-15T10:57:37.8288Z",
          "iopub.execute_input": "2024-07-15T10:57:37.829245Z",
          "iopub.status.idle": "2024-07-15T10:57:37.865424Z",
          "shell.execute_reply.started": "2024-07-15T10:57:37.829206Z",
          "shell.execute_reply": "2024-07-15T10:57:37.864249Z"
        },
        "trusted": true,
        "id": "Ud80VbsN0kSO"
      },
      "outputs": [],
      "execution_count": null
    },
    {
      "cell_type": "code",
      "source": [
        "X=train.drop(['Price'],axis=1)\n",
        "y=train['Price']"
      ],
      "metadata": {
        "execution": {
          "iopub.status.busy": "2024-07-15T10:57:37.866874Z",
          "iopub.execute_input": "2024-07-15T10:57:37.867214Z",
          "iopub.status.idle": "2024-07-15T10:57:37.875563Z",
          "shell.execute_reply.started": "2024-07-15T10:57:37.867185Z",
          "shell.execute_reply": "2024-07-15T10:57:37.874282Z"
        },
        "trusted": true,
        "id": "Mjtc8WuX0kSP"
      },
      "outputs": [],
      "execution_count": null
    },
    {
      "cell_type": "code",
      "source": [
        "from sklearn.model_selection import train_test_split\n",
        "X_train,X_test,y_train,y_test=train_test_split(X,y,test_size=0.3,random_state=42)"
      ],
      "metadata": {
        "execution": {
          "iopub.status.busy": "2024-07-15T10:57:37.877154Z",
          "iopub.execute_input": "2024-07-15T10:57:37.877624Z",
          "iopub.status.idle": "2024-07-15T10:57:37.919195Z",
          "shell.execute_reply.started": "2024-07-15T10:57:37.877576Z",
          "shell.execute_reply": "2024-07-15T10:57:37.918222Z"
        },
        "trusted": true,
        "id": "BWNKM8pB0kSP"
      },
      "outputs": [],
      "execution_count": null
    },
    {
      "cell_type": "code",
      "source": [
        "from sklearn.ensemble import RandomForestRegressor\n",
        "model=RandomForestRegressor()\n",
        "model.fit(X_train,y_train)\n",
        "pred=model.predict(X_test)\n"
      ],
      "metadata": {
        "execution": {
          "iopub.status.busy": "2024-07-15T10:57:37.920683Z",
          "iopub.execute_input": "2024-07-15T10:57:37.921119Z",
          "iopub.status.idle": "2024-07-15T10:57:40.83568Z",
          "shell.execute_reply.started": "2024-07-15T10:57:37.921079Z",
          "shell.execute_reply": "2024-07-15T10:57:40.83438Z"
        },
        "trusted": true,
        "id": "A1Hh5Ykj0kSP"
      },
      "outputs": [],
      "execution_count": null
    },
    {
      "cell_type": "code",
      "source": [
        "pred"
      ],
      "metadata": {
        "execution": {
          "iopub.status.busy": "2024-07-15T10:57:40.837115Z",
          "iopub.execute_input": "2024-07-15T10:57:40.837454Z",
          "iopub.status.idle": "2024-07-15T10:57:40.845068Z",
          "shell.execute_reply.started": "2024-07-15T10:57:40.837424Z",
          "shell.execute_reply": "2024-07-15T10:57:40.843845Z"
        },
        "trusted": true,
        "id": "IP0VLSwQ0kSP"
      },
      "outputs": [],
      "execution_count": null
    },
    {
      "cell_type": "code",
      "source": [
        "from sklearn.metrics import r2_score, mean_absolute_error, mean_squared_error\n",
        "import numpy as np\n",
        "\n",
        "# Calculate R^2 score\n",
        "r2 = r2_score(y_test, pred)\n",
        "print(f\"R^2 score: {r2}\")\n",
        "\n",
        "# Calculate Mean Absolute Error\n",
        "mae = mean_absolute_error(y_test, pred)\n",
        "print(f\"Mean Absolute Error: {mae}\")\n",
        "\n",
        "# Calculate Root Mean Squared Error\n",
        "rmse = np.sqrt(mean_squared_error(y_test, pred))\n",
        "print(f\"Root Mean Squared Error: {rmse}\")"
      ],
      "metadata": {
        "execution": {
          "iopub.status.busy": "2024-07-15T10:57:40.846732Z",
          "iopub.execute_input": "2024-07-15T10:57:40.847209Z",
          "iopub.status.idle": "2024-07-15T10:57:40.859401Z",
          "shell.execute_reply.started": "2024-07-15T10:57:40.84717Z",
          "shell.execute_reply": "2024-07-15T10:57:40.858203Z"
        },
        "trusted": true,
        "id": "20eLFxDZ0kSP"
      },
      "outputs": [],
      "execution_count": null
    },
    {
      "cell_type": "code",
      "source": [
        "test=test.drop(['Price'],axis=1)\n",
        "\n",
        "predictions=model.predict(test)\n",
        "df=pd.DataFrame(predictions)\n",
        "df.to_csv('output.csv')"
      ],
      "metadata": {
        "execution": {
          "iopub.status.busy": "2024-07-15T10:57:40.861097Z",
          "iopub.execute_input": "2024-07-15T10:57:40.861448Z",
          "iopub.status.idle": "2024-07-15T10:57:40.94474Z",
          "shell.execute_reply.started": "2024-07-15T10:57:40.861419Z",
          "shell.execute_reply": "2024-07-15T10:57:40.943594Z"
        },
        "trusted": true,
        "id": "v8XBgWA00kSP"
      },
      "outputs": [],
      "execution_count": null
    }
  ]
}