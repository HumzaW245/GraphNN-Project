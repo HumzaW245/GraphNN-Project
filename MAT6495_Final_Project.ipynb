{
  "metadata": {
    "kernelspec": {
      "language": "python",
      "display_name": "Python 3",
      "name": "python3"
    },
    "language_info": {
      "name": "python",
      "version": "3.10.13",
      "mimetype": "text/x-python",
      "codemirror_mode": {
        "name": "ipython",
        "version": 3
      },
      "pygments_lexer": "ipython3",
      "nbconvert_exporter": "python",
      "file_extension": ".py"
    },
    "kaggle": {
      "accelerator": "none",
      "dataSources": [
        {
          "sourceId": 6960999,
          "sourceType": "datasetVersion",
          "datasetId": 3931573
        }
      ],
      "dockerImageVersionId": 30746,
      "isInternetEnabled": false,
      "language": "python",
      "sourceType": "notebook",
      "isGpuEnabled": false
    },
    "colab": {
      "provenance": [],
      "include_colab_link": true
    }
  },
  "nbformat_minor": 0,
  "nbformat": 4,
  "cells": [
    {
      "cell_type": "markdown",
      "metadata": {
        "id": "view-in-github",
        "colab_type": "text"
      },
      "source": [
        "<a href=\"https://colab.research.google.com/github/HumzaW245/GraphNN-Project/blob/main/MAT6495_Final_Project.ipynb\" target=\"_parent\"><img src=\"https://colab.research.google.com/assets/colab-badge.svg\" alt=\"Open In Colab\"/></a>"
      ]
    },
    {
      "cell_type": "markdown",
      "source": [
        "# Data Processing"
      ],
      "metadata": {
        "id": "Pci4Ry_bUgGj"
      }
    },
    {
      "source": [
        "'''\n",
        "Dataset for flights from: https://www.kaggle.com/datasets/muhammadbinimran/flight-price-prediction/code\n",
        "\n",
        "\n",
        "'''\n",
        "import kagglehub\n",
        "data_path = kagglehub.dataset_download('muhammadbinimran/flight-price-prediction')\n",
        "\n",
        "import numpy as np\n",
        "import pandas as pd\n",
        "import os\n",
        "import matplotlib.pyplot as plt\n",
        "import seaborn as sns\n",
        "from datetime import datetime, timedelta\n",
        "%matplotlib inline\n"
      ],
      "metadata": {
        "id": "lx6SxlGU0kSF"
      },
      "cell_type": "code",
      "outputs": [],
      "execution_count": 220
    },
    {
      "cell_type": "code",
      "source": [
        "trainPath = None\n",
        "testPath = None\n",
        "for dirname, _, filenames in os.walk(data_path):\n",
        "    for filename in filenames:\n",
        "        path = os.path.join(dirname, filename)\n",
        "        print(path)\n",
        "        if \"Train\" in path:\n",
        "          print(f'train patth is {path}' )\n",
        "          trainPath = path\n",
        "        else:\n",
        "          print(f'test patth is {path}' )\n",
        "          testPath = path\n"
      ],
      "metadata": {
        "_uuid": "8f2839f25d086af736a60e9eeb907d3b93b6e0e5",
        "_cell_guid": "b1076dfc-b9ad-4769-8c92-a6c4dae69d19",
        "execution": {
          "iopub.status.busy": "2024-07-15T10:57:35.194653Z",
          "iopub.execute_input": "2024-07-15T10:57:35.195165Z",
          "iopub.status.idle": "2024-07-15T10:57:35.647286Z",
          "shell.execute_reply.started": "2024-07-15T10:57:35.195112Z",
          "shell.execute_reply": "2024-07-15T10:57:35.646099Z"
        },
        "trusted": true,
        "id": "ZnuukRAZ0kSG",
        "colab": {
          "base_uri": "https://localhost:8080/"
        },
        "outputId": "256d7690-e185-426b-ecb8-fcdae92382cb"
      },
      "outputs": [
        {
          "output_type": "stream",
          "name": "stdout",
          "text": [
            "/root/.cache/kagglehub/datasets/muhammadbinimran/flight-price-prediction/versions/2/Data_Train.csv\n",
            "train patth is /root/.cache/kagglehub/datasets/muhammadbinimran/flight-price-prediction/versions/2/Data_Train.csv\n",
            "/root/.cache/kagglehub/datasets/muhammadbinimran/flight-price-prediction/versions/2/Test_set.csv\n",
            "test patth is /root/.cache/kagglehub/datasets/muhammadbinimran/flight-price-prediction/versions/2/Test_set.csv\n"
          ]
        }
      ],
      "execution_count": 221
    },
    {
      "cell_type": "code",
      "source": [
        "train=pd.read_csv(trainPath)"
      ],
      "metadata": {
        "execution": {
          "iopub.status.busy": "2024-07-15T10:57:36.238668Z",
          "iopub.execute_input": "2024-07-15T10:57:36.239013Z",
          "iopub.status.idle": "2024-07-15T10:57:36.294109Z",
          "shell.execute_reply.started": "2024-07-15T10:57:36.238966Z",
          "shell.execute_reply": "2024-07-15T10:57:36.292976Z"
        },
        "trusted": true,
        "id": "Bog_eun00kSH"
      },
      "outputs": [],
      "execution_count": 222
    },
    {
      "cell_type": "code",
      "source": [
        "test=pd.read_csv(testPath)"
      ],
      "metadata": {
        "execution": {
          "iopub.status.busy": "2024-07-15T10:57:36.297201Z",
          "iopub.execute_input": "2024-07-15T10:57:36.297558Z",
          "iopub.status.idle": "2024-07-15T10:57:36.327049Z",
          "shell.execute_reply.started": "2024-07-15T10:57:36.297527Z",
          "shell.execute_reply": "2024-07-15T10:57:36.325897Z"
        },
        "trusted": true,
        "id": "PsIdaWSs0kSH"
      },
      "outputs": [],
      "execution_count": 223
    },
    {
      "cell_type": "code",
      "source": [
        "flights =pd.concat([train,test])"
      ],
      "metadata": {
        "execution": {
          "iopub.status.busy": "2024-07-15T10:57:36.32882Z",
          "iopub.execute_input": "2024-07-15T10:57:36.329178Z",
          "iopub.status.idle": "2024-07-15T10:57:36.354347Z",
          "shell.execute_reply.started": "2024-07-15T10:57:36.329146Z",
          "shell.execute_reply": "2024-07-15T10:57:36.353147Z"
        },
        "trusted": true,
        "id": "SdP1rsxw0kSH"
      },
      "outputs": [],
      "execution_count": 224
    },
    {
      "cell_type": "code",
      "source": [
        "flights.info()"
      ],
      "metadata": {
        "execution": {
          "iopub.status.busy": "2024-07-15T10:57:36.35574Z",
          "iopub.execute_input": "2024-07-15T10:57:36.356175Z",
          "iopub.status.idle": "2024-07-15T10:57:36.385229Z",
          "shell.execute_reply.started": "2024-07-15T10:57:36.356133Z",
          "shell.execute_reply": "2024-07-15T10:57:36.383811Z"
        },
        "trusted": true,
        "id": "_lKHExRe0kSH",
        "colab": {
          "base_uri": "https://localhost:8080/"
        },
        "outputId": "436e8342-b9b7-4dbc-b49c-25f46f5c1921"
      },
      "outputs": [
        {
          "output_type": "stream",
          "name": "stdout",
          "text": [
            "<class 'pandas.core.frame.DataFrame'>\n",
            "Index: 13354 entries, 0 to 2670\n",
            "Data columns (total 11 columns):\n",
            " #   Column           Non-Null Count  Dtype  \n",
            "---  ------           --------------  -----  \n",
            " 0   Airline          13354 non-null  object \n",
            " 1   Date_of_Journey  13354 non-null  object \n",
            " 2   Source           13354 non-null  object \n",
            " 3   Destination      13354 non-null  object \n",
            " 4   Route            13353 non-null  object \n",
            " 5   Dep_Time         13354 non-null  object \n",
            " 6   Arrival_Time     13354 non-null  object \n",
            " 7   Duration         13354 non-null  object \n",
            " 8   Total_Stops      13353 non-null  object \n",
            " 9   Additional_Info  13354 non-null  object \n",
            " 10  Price            10683 non-null  float64\n",
            "dtypes: float64(1), object(10)\n",
            "memory usage: 1.2+ MB\n"
          ]
        }
      ],
      "execution_count": 225
    },
    {
      "cell_type": "code",
      "source": [
        "\n",
        "# Reset the index\n",
        "flights = flights.reset_index(drop=True)\n",
        "\n",
        "flights = flights.drop_duplicates()"
      ],
      "metadata": {
        "id": "iBbTFpWz818s"
      },
      "execution_count": 226,
      "outputs": []
    },
    {
      "cell_type": "code",
      "source": [
        "\n",
        "flights['Date_of_Journey'] = flights['Date_of_Journey'].apply(lambda dateStr: datetime.strptime(dateStr , '%d/%m/%Y'))\n"
      ],
      "metadata": {
        "id": "HWQQdXQ-6rdr"
      },
      "execution_count": 227,
      "outputs": []
    },
    {
      "cell_type": "code",
      "source": [
        "flights['Departure_Day']=flights['Date_of_Journey'].apply(lambda date: date.day)\n",
        "flights['Departure_Month']=flights['Date_of_Journey'].apply(lambda date: date.month)\n",
        "flights['Departure_Year']=flights['Date_of_Journey'].apply(lambda date: date.year)"
      ],
      "metadata": {
        "execution": {
          "iopub.status.busy": "2024-07-15T10:57:36.387213Z",
          "iopub.execute_input": "2024-07-15T10:57:36.387641Z",
          "iopub.status.idle": "2024-07-15T10:57:36.548344Z",
          "shell.execute_reply.started": "2024-07-15T10:57:36.387601Z",
          "shell.execute_reply": "2024-07-15T10:57:36.54731Z"
        },
        "trusted": true,
        "id": "WFxh2PCD0kSI"
      },
      "outputs": [],
      "execution_count": 228
    },
    {
      "cell_type": "code",
      "source": [
        "def add_departure_time_to_date_of_journey(date_of_journey, dep_time):\n",
        "  dep_time = datetime.strptime(dep_time, '%H:%M').time()\n",
        "  date_flight_with_time = date_of_journey.replace(hour=dep_time.hour,minute=dep_time.minute)\n",
        "  return date_flight_with_time\n",
        "\n",
        "\n",
        "flights['Departure_Date'] = flights.apply(lambda row: add_departure_time_to_date_of_journey(row['Date_of_Journey'],row['Dep_Time']), axis=1)\n"
      ],
      "metadata": {
        "execution": {
          "iopub.status.busy": "2024-07-15T10:57:36.549761Z",
          "iopub.execute_input": "2024-07-15T10:57:36.550191Z",
          "iopub.status.idle": "2024-07-15T10:57:36.560593Z",
          "shell.execute_reply.started": "2024-07-15T10:57:36.550152Z",
          "shell.execute_reply": "2024-07-15T10:57:36.559579Z"
        },
        "trusted": true,
        "id": "mx3GsU1j0kSI"
      },
      "outputs": [],
      "execution_count": 229
    },
    {
      "cell_type": "code",
      "source": [
        "def process_duration_string(duration):\n",
        "  if 'm' in duration:\n",
        "    duration = duration\n",
        "\n",
        "  else:\n",
        "    duration = duration + ' 0m'\n",
        "\n",
        "  if 'h' in duration:\n",
        "    duration = duration\n",
        "  else:\n",
        "    duration = '0h ' + duration\n",
        "  duration = duration.replace('h ',':')\n",
        "  duration = duration.replace('m','')\n",
        "  dur_list = duration.split(':')\n",
        "  hour = int(dur_list[0])\n",
        "  min = int(dur_list[1])\n",
        "  duration = timedelta(hours=hour, minutes=min)\n",
        "  return duration\n",
        "\n",
        "def get_arrival_time(date_flight, duration_string):\n",
        "  duration = process_duration_string(duration_string)\n",
        "  arrival_time = date_flight + duration\n",
        "  return arrival_time\n",
        "\n",
        "flights['Arrival_Date'] = flights.apply(lambda row: get_arrival_time(row['Departure_Date'], row['Duration']), axis = 1)\n"
      ],
      "metadata": {
        "id": "RzRkJj5YG0U1"
      },
      "execution_count": 230,
      "outputs": []
    },
    {
      "cell_type": "code",
      "source": [
        "flights['Arrival_Day']=flights['Arrival_Date'].apply(lambda date: date.day)\n",
        "flights['Arrival_Month']=flights['Arrival_Date'].apply(lambda date: date.month)\n",
        "flights['Arrival_Year']=flights['Arrival_Date'].apply(lambda date: date.year)"
      ],
      "metadata": {
        "id": "oOYnOP5sOwLG"
      },
      "execution_count": 231,
      "outputs": []
    },
    {
      "cell_type": "code",
      "source": [
        "def process_stops_string(stops):\n",
        "  if stops == \"1 stop\":\n",
        "    return 1\n",
        "  elif stops == \"2 stops\":\n",
        "    return 2\n",
        "  elif stops == \"3 stops\":\n",
        "    return 3\n",
        "  elif stops == \"4 stops\":\n",
        "    return 4\n",
        "  elif stops == \"non-stop\":\n",
        "    return 0\n",
        "  elif pd.isna(stops):\n",
        "    return 0\n",
        "  else:\n",
        "    print('unexpected stops value: ' + str(stops))\n",
        "    assert False\n",
        "\n",
        "flights['Total_Stops'] = flights['Total_Stops'].apply(lambda stops: process_stops_string(stops))\n"
      ],
      "metadata": {
        "id": "otSTXqmXRqwA"
      },
      "execution_count": 232,
      "outputs": []
    },
    {
      "cell_type": "code",
      "source": [
        "flights = flights[['Airline', 'Source', 'Destination',\n",
        "       'Total_Stops',\n",
        "       'Price', 'Departure_Date', 'Arrival_Date', 'Departure_Day', 'Departure_Month',\n",
        "       'Departure_Year','Arrival_Day',\n",
        "       'Arrival_Month', 'Arrival_Year']]"
      ],
      "metadata": {
        "id": "JQVHkCFyFYA9"
      },
      "execution_count": 233,
      "outputs": []
    },
    {
      "cell_type": "code",
      "source": [
        "flights.head()"
      ],
      "metadata": {
        "colab": {
          "base_uri": "https://localhost:8080/",
          "height": 313
        },
        "id": "KJ4tdEyEUwDZ",
        "outputId": "8dc40f93-546c-4d05-aba0-21733ce4eee6"
      },
      "execution_count": 234,
      "outputs": [
        {
          "output_type": "execute_result",
          "data": {
            "text/plain": [
              "       Airline    Source Destination  Total_Stops    Price  \\\n",
              "0       IndiGo  Banglore   New Delhi            0   3897.0   \n",
              "1    Air India   Kolkata    Banglore            2   7662.0   \n",
              "2  Jet Airways     Delhi      Cochin            2  13882.0   \n",
              "3       IndiGo   Kolkata    Banglore            1   6218.0   \n",
              "4       IndiGo  Banglore   New Delhi            1  13302.0   \n",
              "\n",
              "       Departure_Date        Arrival_Date  Departure_Day  Departure_Month  \\\n",
              "0 2019-03-24 22:20:00 2019-03-25 01:10:00             24                3   \n",
              "1 2019-05-01 05:50:00 2019-05-01 13:15:00              1                5   \n",
              "2 2019-06-09 09:25:00 2019-06-10 04:25:00              9                6   \n",
              "3 2019-05-12 18:05:00 2019-05-12 23:30:00             12                5   \n",
              "4 2019-03-01 16:50:00 2019-03-01 21:35:00              1                3   \n",
              "\n",
              "   Departure_Year  Arrival_Day  Arrival_Month  Arrival_Year  \n",
              "0            2019           25              3          2019  \n",
              "1            2019            1              5          2019  \n",
              "2            2019           10              6          2019  \n",
              "3            2019           12              5          2019  \n",
              "4            2019            1              3          2019  "
            ],
            "text/html": [
              "\n",
              "  <div id=\"df-433d8535-3d08-4126-93c9-23cee12f17eb\" class=\"colab-df-container\">\n",
              "    <div>\n",
              "<style scoped>\n",
              "    .dataframe tbody tr th:only-of-type {\n",
              "        vertical-align: middle;\n",
              "    }\n",
              "\n",
              "    .dataframe tbody tr th {\n",
              "        vertical-align: top;\n",
              "    }\n",
              "\n",
              "    .dataframe thead th {\n",
              "        text-align: right;\n",
              "    }\n",
              "</style>\n",
              "<table border=\"1\" class=\"dataframe\">\n",
              "  <thead>\n",
              "    <tr style=\"text-align: right;\">\n",
              "      <th></th>\n",
              "      <th>Airline</th>\n",
              "      <th>Source</th>\n",
              "      <th>Destination</th>\n",
              "      <th>Total_Stops</th>\n",
              "      <th>Price</th>\n",
              "      <th>Departure_Date</th>\n",
              "      <th>Arrival_Date</th>\n",
              "      <th>Departure_Day</th>\n",
              "      <th>Departure_Month</th>\n",
              "      <th>Departure_Year</th>\n",
              "      <th>Arrival_Day</th>\n",
              "      <th>Arrival_Month</th>\n",
              "      <th>Arrival_Year</th>\n",
              "    </tr>\n",
              "  </thead>\n",
              "  <tbody>\n",
              "    <tr>\n",
              "      <th>0</th>\n",
              "      <td>IndiGo</td>\n",
              "      <td>Banglore</td>\n",
              "      <td>New Delhi</td>\n",
              "      <td>0</td>\n",
              "      <td>3897.0</td>\n",
              "      <td>2019-03-24 22:20:00</td>\n",
              "      <td>2019-03-25 01:10:00</td>\n",
              "      <td>24</td>\n",
              "      <td>3</td>\n",
              "      <td>2019</td>\n",
              "      <td>25</td>\n",
              "      <td>3</td>\n",
              "      <td>2019</td>\n",
              "    </tr>\n",
              "    <tr>\n",
              "      <th>1</th>\n",
              "      <td>Air India</td>\n",
              "      <td>Kolkata</td>\n",
              "      <td>Banglore</td>\n",
              "      <td>2</td>\n",
              "      <td>7662.0</td>\n",
              "      <td>2019-05-01 05:50:00</td>\n",
              "      <td>2019-05-01 13:15:00</td>\n",
              "      <td>1</td>\n",
              "      <td>5</td>\n",
              "      <td>2019</td>\n",
              "      <td>1</td>\n",
              "      <td>5</td>\n",
              "      <td>2019</td>\n",
              "    </tr>\n",
              "    <tr>\n",
              "      <th>2</th>\n",
              "      <td>Jet Airways</td>\n",
              "      <td>Delhi</td>\n",
              "      <td>Cochin</td>\n",
              "      <td>2</td>\n",
              "      <td>13882.0</td>\n",
              "      <td>2019-06-09 09:25:00</td>\n",
              "      <td>2019-06-10 04:25:00</td>\n",
              "      <td>9</td>\n",
              "      <td>6</td>\n",
              "      <td>2019</td>\n",
              "      <td>10</td>\n",
              "      <td>6</td>\n",
              "      <td>2019</td>\n",
              "    </tr>\n",
              "    <tr>\n",
              "      <th>3</th>\n",
              "      <td>IndiGo</td>\n",
              "      <td>Kolkata</td>\n",
              "      <td>Banglore</td>\n",
              "      <td>1</td>\n",
              "      <td>6218.0</td>\n",
              "      <td>2019-05-12 18:05:00</td>\n",
              "      <td>2019-05-12 23:30:00</td>\n",
              "      <td>12</td>\n",
              "      <td>5</td>\n",
              "      <td>2019</td>\n",
              "      <td>12</td>\n",
              "      <td>5</td>\n",
              "      <td>2019</td>\n",
              "    </tr>\n",
              "    <tr>\n",
              "      <th>4</th>\n",
              "      <td>IndiGo</td>\n",
              "      <td>Banglore</td>\n",
              "      <td>New Delhi</td>\n",
              "      <td>1</td>\n",
              "      <td>13302.0</td>\n",
              "      <td>2019-03-01 16:50:00</td>\n",
              "      <td>2019-03-01 21:35:00</td>\n",
              "      <td>1</td>\n",
              "      <td>3</td>\n",
              "      <td>2019</td>\n",
              "      <td>1</td>\n",
              "      <td>3</td>\n",
              "      <td>2019</td>\n",
              "    </tr>\n",
              "  </tbody>\n",
              "</table>\n",
              "</div>\n",
              "    <div class=\"colab-df-buttons\">\n",
              "\n",
              "  <div class=\"colab-df-container\">\n",
              "    <button class=\"colab-df-convert\" onclick=\"convertToInteractive('df-433d8535-3d08-4126-93c9-23cee12f17eb')\"\n",
              "            title=\"Convert this dataframe to an interactive table.\"\n",
              "            style=\"display:none;\">\n",
              "\n",
              "  <svg xmlns=\"http://www.w3.org/2000/svg\" height=\"24px\" viewBox=\"0 -960 960 960\">\n",
              "    <path d=\"M120-120v-720h720v720H120Zm60-500h600v-160H180v160Zm220 220h160v-160H400v160Zm0 220h160v-160H400v160ZM180-400h160v-160H180v160Zm440 0h160v-160H620v160ZM180-180h160v-160H180v160Zm440 0h160v-160H620v160Z\"/>\n",
              "  </svg>\n",
              "    </button>\n",
              "\n",
              "  <style>\n",
              "    .colab-df-container {\n",
              "      display:flex;\n",
              "      gap: 12px;\n",
              "    }\n",
              "\n",
              "    .colab-df-convert {\n",
              "      background-color: #E8F0FE;\n",
              "      border: none;\n",
              "      border-radius: 50%;\n",
              "      cursor: pointer;\n",
              "      display: none;\n",
              "      fill: #1967D2;\n",
              "      height: 32px;\n",
              "      padding: 0 0 0 0;\n",
              "      width: 32px;\n",
              "    }\n",
              "\n",
              "    .colab-df-convert:hover {\n",
              "      background-color: #E2EBFA;\n",
              "      box-shadow: 0px 1px 2px rgba(60, 64, 67, 0.3), 0px 1px 3px 1px rgba(60, 64, 67, 0.15);\n",
              "      fill: #174EA6;\n",
              "    }\n",
              "\n",
              "    .colab-df-buttons div {\n",
              "      margin-bottom: 4px;\n",
              "    }\n",
              "\n",
              "    [theme=dark] .colab-df-convert {\n",
              "      background-color: #3B4455;\n",
              "      fill: #D2E3FC;\n",
              "    }\n",
              "\n",
              "    [theme=dark] .colab-df-convert:hover {\n",
              "      background-color: #434B5C;\n",
              "      box-shadow: 0px 1px 3px 1px rgba(0, 0, 0, 0.15);\n",
              "      filter: drop-shadow(0px 1px 2px rgba(0, 0, 0, 0.3));\n",
              "      fill: #FFFFFF;\n",
              "    }\n",
              "  </style>\n",
              "\n",
              "    <script>\n",
              "      const buttonEl =\n",
              "        document.querySelector('#df-433d8535-3d08-4126-93c9-23cee12f17eb button.colab-df-convert');\n",
              "      buttonEl.style.display =\n",
              "        google.colab.kernel.accessAllowed ? 'block' : 'none';\n",
              "\n",
              "      async function convertToInteractive(key) {\n",
              "        const element = document.querySelector('#df-433d8535-3d08-4126-93c9-23cee12f17eb');\n",
              "        const dataTable =\n",
              "          await google.colab.kernel.invokeFunction('convertToInteractive',\n",
              "                                                    [key], {});\n",
              "        if (!dataTable) return;\n",
              "\n",
              "        const docLinkHtml = 'Like what you see? Visit the ' +\n",
              "          '<a target=\"_blank\" href=https://colab.research.google.com/notebooks/data_table.ipynb>data table notebook</a>'\n",
              "          + ' to learn more about interactive tables.';\n",
              "        element.innerHTML = '';\n",
              "        dataTable['output_type'] = 'display_data';\n",
              "        await google.colab.output.renderOutput(dataTable, element);\n",
              "        const docLink = document.createElement('div');\n",
              "        docLink.innerHTML = docLinkHtml;\n",
              "        element.appendChild(docLink);\n",
              "      }\n",
              "    </script>\n",
              "  </div>\n",
              "\n",
              "\n",
              "<div id=\"df-f0953c9f-0187-4ca2-b06c-0e191d95ddbd\">\n",
              "  <button class=\"colab-df-quickchart\" onclick=\"quickchart('df-f0953c9f-0187-4ca2-b06c-0e191d95ddbd')\"\n",
              "            title=\"Suggest charts\"\n",
              "            style=\"display:none;\">\n",
              "\n",
              "<svg xmlns=\"http://www.w3.org/2000/svg\" height=\"24px\"viewBox=\"0 0 24 24\"\n",
              "     width=\"24px\">\n",
              "    <g>\n",
              "        <path d=\"M19 3H5c-1.1 0-2 .9-2 2v14c0 1.1.9 2 2 2h14c1.1 0 2-.9 2-2V5c0-1.1-.9-2-2-2zM9 17H7v-7h2v7zm4 0h-2V7h2v10zm4 0h-2v-4h2v4z\"/>\n",
              "    </g>\n",
              "</svg>\n",
              "  </button>\n",
              "\n",
              "<style>\n",
              "  .colab-df-quickchart {\n",
              "      --bg-color: #E8F0FE;\n",
              "      --fill-color: #1967D2;\n",
              "      --hover-bg-color: #E2EBFA;\n",
              "      --hover-fill-color: #174EA6;\n",
              "      --disabled-fill-color: #AAA;\n",
              "      --disabled-bg-color: #DDD;\n",
              "  }\n",
              "\n",
              "  [theme=dark] .colab-df-quickchart {\n",
              "      --bg-color: #3B4455;\n",
              "      --fill-color: #D2E3FC;\n",
              "      --hover-bg-color: #434B5C;\n",
              "      --hover-fill-color: #FFFFFF;\n",
              "      --disabled-bg-color: #3B4455;\n",
              "      --disabled-fill-color: #666;\n",
              "  }\n",
              "\n",
              "  .colab-df-quickchart {\n",
              "    background-color: var(--bg-color);\n",
              "    border: none;\n",
              "    border-radius: 50%;\n",
              "    cursor: pointer;\n",
              "    display: none;\n",
              "    fill: var(--fill-color);\n",
              "    height: 32px;\n",
              "    padding: 0;\n",
              "    width: 32px;\n",
              "  }\n",
              "\n",
              "  .colab-df-quickchart:hover {\n",
              "    background-color: var(--hover-bg-color);\n",
              "    box-shadow: 0 1px 2px rgba(60, 64, 67, 0.3), 0 1px 3px 1px rgba(60, 64, 67, 0.15);\n",
              "    fill: var(--button-hover-fill-color);\n",
              "  }\n",
              "\n",
              "  .colab-df-quickchart-complete:disabled,\n",
              "  .colab-df-quickchart-complete:disabled:hover {\n",
              "    background-color: var(--disabled-bg-color);\n",
              "    fill: var(--disabled-fill-color);\n",
              "    box-shadow: none;\n",
              "  }\n",
              "\n",
              "  .colab-df-spinner {\n",
              "    border: 2px solid var(--fill-color);\n",
              "    border-color: transparent;\n",
              "    border-bottom-color: var(--fill-color);\n",
              "    animation:\n",
              "      spin 1s steps(1) infinite;\n",
              "  }\n",
              "\n",
              "  @keyframes spin {\n",
              "    0% {\n",
              "      border-color: transparent;\n",
              "      border-bottom-color: var(--fill-color);\n",
              "      border-left-color: var(--fill-color);\n",
              "    }\n",
              "    20% {\n",
              "      border-color: transparent;\n",
              "      border-left-color: var(--fill-color);\n",
              "      border-top-color: var(--fill-color);\n",
              "    }\n",
              "    30% {\n",
              "      border-color: transparent;\n",
              "      border-left-color: var(--fill-color);\n",
              "      border-top-color: var(--fill-color);\n",
              "      border-right-color: var(--fill-color);\n",
              "    }\n",
              "    40% {\n",
              "      border-color: transparent;\n",
              "      border-right-color: var(--fill-color);\n",
              "      border-top-color: var(--fill-color);\n",
              "    }\n",
              "    60% {\n",
              "      border-color: transparent;\n",
              "      border-right-color: var(--fill-color);\n",
              "    }\n",
              "    80% {\n",
              "      border-color: transparent;\n",
              "      border-right-color: var(--fill-color);\n",
              "      border-bottom-color: var(--fill-color);\n",
              "    }\n",
              "    90% {\n",
              "      border-color: transparent;\n",
              "      border-bottom-color: var(--fill-color);\n",
              "    }\n",
              "  }\n",
              "</style>\n",
              "\n",
              "  <script>\n",
              "    async function quickchart(key) {\n",
              "      const quickchartButtonEl =\n",
              "        document.querySelector('#' + key + ' button');\n",
              "      quickchartButtonEl.disabled = true;  // To prevent multiple clicks.\n",
              "      quickchartButtonEl.classList.add('colab-df-spinner');\n",
              "      try {\n",
              "        const charts = await google.colab.kernel.invokeFunction(\n",
              "            'suggestCharts', [key], {});\n",
              "      } catch (error) {\n",
              "        console.error('Error during call to suggestCharts:', error);\n",
              "      }\n",
              "      quickchartButtonEl.classList.remove('colab-df-spinner');\n",
              "      quickchartButtonEl.classList.add('colab-df-quickchart-complete');\n",
              "    }\n",
              "    (() => {\n",
              "      let quickchartButtonEl =\n",
              "        document.querySelector('#df-f0953c9f-0187-4ca2-b06c-0e191d95ddbd button');\n",
              "      quickchartButtonEl.style.display =\n",
              "        google.colab.kernel.accessAllowed ? 'block' : 'none';\n",
              "    })();\n",
              "  </script>\n",
              "</div>\n",
              "\n",
              "    </div>\n",
              "  </div>\n"
            ],
            "application/vnd.google.colaboratory.intrinsic+json": {
              "type": "dataframe",
              "variable_name": "flights",
              "summary": "{\n  \"name\": \"flights\",\n  \"rows\": 13108,\n  \"fields\": [\n    {\n      \"column\": \"Airline\",\n      \"properties\": {\n        \"dtype\": \"category\",\n        \"num_unique_values\": 12,\n        \"samples\": [\n          \"Multiple carriers Premium economy\",\n          \"Jet Airways Business\",\n          \"IndiGo\"\n        ],\n        \"semantic_type\": \"\",\n        \"description\": \"\"\n      }\n    },\n    {\n      \"column\": \"Source\",\n      \"properties\": {\n        \"dtype\": \"category\",\n        \"num_unique_values\": 5,\n        \"samples\": [\n          \"Kolkata\",\n          \"Mumbai\",\n          \"Delhi\"\n        ],\n        \"semantic_type\": \"\",\n        \"description\": \"\"\n      }\n    },\n    {\n      \"column\": \"Destination\",\n      \"properties\": {\n        \"dtype\": \"category\",\n        \"num_unique_values\": 6,\n        \"samples\": [\n          \"New Delhi\",\n          \"Banglore\",\n          \"Hyderabad\"\n        ],\n        \"semantic_type\": \"\",\n        \"description\": \"\"\n      }\n    },\n    {\n      \"column\": \"Total_Stops\",\n      \"properties\": {\n        \"dtype\": \"number\",\n        \"std\": 0,\n        \"min\": 0,\n        \"max\": 4,\n        \"num_unique_values\": 5,\n        \"samples\": [\n          2,\n          4,\n          1\n        ],\n        \"semantic_type\": \"\",\n        \"description\": \"\"\n      }\n    },\n    {\n      \"column\": \"Price\",\n      \"properties\": {\n        \"dtype\": \"number\",\n        \"std\": 4624.653227312798,\n        \"min\": 1759.0,\n        \"max\": 79512.0,\n        \"num_unique_values\": 1870,\n        \"samples\": [\n          10810.0,\n          4588.0,\n          10056.0\n        ],\n        \"semantic_type\": \"\",\n        \"description\": \"\"\n      }\n    },\n    {\n      \"column\": \"Departure_Date\",\n      \"properties\": {\n        \"dtype\": \"date\",\n        \"min\": \"2019-03-01 00:20:00\",\n        \"max\": \"2019-06-27 23:55:00\",\n        \"num_unique_values\": 4592,\n        \"samples\": [\n          \"2019-04-09 09:40:00\",\n          \"2019-05-09 02:55:00\",\n          \"2019-05-18 19:05:00\"\n        ],\n        \"semantic_type\": \"\",\n        \"description\": \"\"\n      }\n    },\n    {\n      \"column\": \"Arrival_Date\",\n      \"properties\": {\n        \"dtype\": \"date\",\n        \"min\": \"2019-03-01 04:00:00\",\n        \"max\": \"2019-06-29 04:25:00\",\n        \"num_unique_values\": 4816,\n        \"samples\": [\n          \"2019-03-02 20:20:00\",\n          \"2019-06-18 14:00:00\",\n          \"2019-05-06 17:15:00\"\n        ],\n        \"semantic_type\": \"\",\n        \"description\": \"\"\n      }\n    },\n    {\n      \"column\": \"Departure_Day\",\n      \"properties\": {\n        \"dtype\": \"number\",\n        \"std\": 8,\n        \"min\": 1,\n        \"max\": 27,\n        \"num_unique_values\": 10,\n        \"samples\": [\n          6,\n          1,\n          18\n        ],\n        \"semantic_type\": \"\",\n        \"description\": \"\"\n      }\n    },\n    {\n      \"column\": \"Departure_Month\",\n      \"properties\": {\n        \"dtype\": \"number\",\n        \"std\": 1,\n        \"min\": 3,\n        \"max\": 6,\n        \"num_unique_values\": 4,\n        \"samples\": [\n          5,\n          4,\n          3\n        ],\n        \"semantic_type\": \"\",\n        \"description\": \"\"\n      }\n    },\n    {\n      \"column\": \"Departure_Year\",\n      \"properties\": {\n        \"dtype\": \"number\",\n        \"std\": 0,\n        \"min\": 2019,\n        \"max\": 2019,\n        \"num_unique_values\": 1,\n        \"samples\": [\n          2019\n        ],\n        \"semantic_type\": \"\",\n        \"description\": \"\"\n      }\n    },\n    {\n      \"column\": \"Arrival_Day\",\n      \"properties\": {\n        \"dtype\": \"number\",\n        \"std\": 8,\n        \"min\": 1,\n        \"max\": 29,\n        \"num_unique_values\": 28,\n        \"samples\": [\n          4\n        ],\n        \"semantic_type\": \"\",\n        \"description\": \"\"\n      }\n    },\n    {\n      \"column\": \"Arrival_Month\",\n      \"properties\": {\n        \"dtype\": \"number\",\n        \"std\": 1,\n        \"min\": 3,\n        \"max\": 6,\n        \"num_unique_values\": 4,\n        \"samples\": [\n          5\n        ],\n        \"semantic_type\": \"\",\n        \"description\": \"\"\n      }\n    },\n    {\n      \"column\": \"Arrival_Year\",\n      \"properties\": {\n        \"dtype\": \"number\",\n        \"std\": 0,\n        \"min\": 2019,\n        \"max\": 2019,\n        \"num_unique_values\": 1,\n        \"samples\": [\n          2019\n        ],\n        \"semantic_type\": \"\",\n        \"description\": \"\"\n      }\n    }\n  ]\n}"
            }
          },
          "metadata": {},
          "execution_count": 234
        }
      ]
    },
    {
      "cell_type": "code",
      "source": [
        "#flights.info()"
      ],
      "metadata": {
        "execution": {
          "iopub.status.busy": "2024-07-15T10:57:36.59581Z",
          "iopub.execute_input": "2024-07-15T10:57:36.596152Z",
          "iopub.status.idle": "2024-07-15T10:57:36.610233Z",
          "shell.execute_reply.started": "2024-07-15T10:57:36.596122Z",
          "shell.execute_reply": "2024-07-15T10:57:36.609098Z"
        },
        "trusted": true,
        "id": "YdIKqO_p0kSI",
        "colab": {
          "base_uri": "https://localhost:8080/"
        },
        "outputId": "ca7a6c3e-4d36-4b88-8ecd-52f16193c3bb"
      },
      "outputs": [
        {
          "output_type": "stream",
          "name": "stdout",
          "text": [
            "<class 'pandas.core.frame.DataFrame'>\n",
            "Index: 13108 entries, 0 to 13353\n",
            "Data columns (total 13 columns):\n",
            " #   Column           Non-Null Count  Dtype         \n",
            "---  ------           --------------  -----         \n",
            " 0   Airline          13108 non-null  object        \n",
            " 1   Source           13108 non-null  object        \n",
            " 2   Destination      13108 non-null  object        \n",
            " 3   Total_Stops      13108 non-null  int64         \n",
            " 4   Price            10463 non-null  float64       \n",
            " 5   Departure_Date   13108 non-null  datetime64[ns]\n",
            " 6   Arrival_Date     13108 non-null  datetime64[ns]\n",
            " 7   Departure_Day    13108 non-null  int64         \n",
            " 8   Departure_Month  13108 non-null  int64         \n",
            " 9   Departure_Year   13108 non-null  int64         \n",
            " 10  Arrival_Day      13108 non-null  int64         \n",
            " 11  Arrival_Month    13108 non-null  int64         \n",
            " 12  Arrival_Year     13108 non-null  int64         \n",
            "dtypes: datetime64[ns](2), float64(1), int64(7), object(3)\n",
            "memory usage: 1.9+ MB\n"
          ]
        }
      ],
      "execution_count": 214
    },
    {
      "cell_type": "markdown",
      "source": [
        "# Data Processing"
      ],
      "metadata": {
        "id": "rOp2WgLSUa64"
      }
    },
    {
      "cell_type": "code",
      "source": [
        "from sklearn.preprocessing import LabelEncoder\n",
        "label=LabelEncoder()\n",
        "final_df['Airline']=label.fit_transform(final_df['Airline'])\n",
        "final_df['Source']=label.fit_transform(final_df['Source'])\n",
        "final_df['Destination']=label.fit_transform(final_df['Destination'])\n",
        "final_df['Additional_Info']=label.fit_transform(final_df['Additional_Info'])"
      ],
      "metadata": {
        "execution": {
          "iopub.status.busy": "2024-07-15T10:57:37.541682Z",
          "iopub.execute_input": "2024-07-15T10:57:37.542042Z",
          "iopub.status.idle": "2024-07-15T10:57:37.615792Z",
          "shell.execute_reply.started": "2024-07-15T10:57:37.541986Z",
          "shell.execute_reply": "2024-07-15T10:57:37.614796Z"
        },
        "trusted": true,
        "id": "aW3v86g30kSO"
      },
      "outputs": [],
      "execution_count": null
    },
    {
      "cell_type": "code",
      "source": [
        "final_df"
      ],
      "metadata": {
        "execution": {
          "iopub.status.busy": "2024-07-15T10:57:37.617462Z",
          "iopub.execute_input": "2024-07-15T10:57:37.617853Z",
          "iopub.status.idle": "2024-07-15T10:57:37.64104Z",
          "shell.execute_reply.started": "2024-07-15T10:57:37.617811Z",
          "shell.execute_reply": "2024-07-15T10:57:37.639855Z"
        },
        "trusted": true,
        "id": "vHyowfBX0kSO"
      },
      "outputs": [],
      "execution_count": null
    },
    {
      "cell_type": "code",
      "source": [
        "final_df['Duration']=final_df['Duration_hour']*60+final_df['Duration_min']"
      ],
      "metadata": {
        "execution": {
          "iopub.status.busy": "2024-07-15T10:57:37.642824Z",
          "iopub.execute_input": "2024-07-15T10:57:37.643313Z",
          "iopub.status.idle": "2024-07-15T10:57:37.650366Z",
          "shell.execute_reply.started": "2024-07-15T10:57:37.643272Z",
          "shell.execute_reply": "2024-07-15T10:57:37.64934Z"
        },
        "trusted": true,
        "id": "eQsviNY60kSO"
      },
      "outputs": [],
      "execution_count": null
    },
    {
      "cell_type": "code",
      "source": [
        "final_df.drop(['Duration_hour','Duration_min'],axis=1,inplace=True)"
      ],
      "metadata": {
        "execution": {
          "iopub.status.busy": "2024-07-15T10:57:37.651877Z",
          "iopub.execute_input": "2024-07-15T10:57:37.652323Z",
          "iopub.status.idle": "2024-07-15T10:57:37.661639Z",
          "shell.execute_reply.started": "2024-07-15T10:57:37.652284Z",
          "shell.execute_reply": "2024-07-15T10:57:37.660472Z"
        },
        "trusted": true,
        "id": "pPxu8oJH0kSO"
      },
      "outputs": [],
      "execution_count": null
    },
    {
      "cell_type": "code",
      "source": [
        "final_df.info()"
      ],
      "metadata": {
        "execution": {
          "iopub.status.busy": "2024-07-15T10:57:37.663032Z",
          "iopub.execute_input": "2024-07-15T10:57:37.663432Z",
          "iopub.status.idle": "2024-07-15T10:57:37.679475Z",
          "shell.execute_reply.started": "2024-07-15T10:57:37.663401Z",
          "shell.execute_reply": "2024-07-15T10:57:37.678219Z"
        },
        "trusted": true,
        "id": "69WXUsPR0kSO"
      },
      "outputs": [],
      "execution_count": null
    },
    {
      "cell_type": "code",
      "source": [
        "final_df.isnull().sum()"
      ],
      "metadata": {
        "execution": {
          "iopub.status.busy": "2024-07-15T10:57:37.680701Z",
          "iopub.execute_input": "2024-07-15T10:57:37.681146Z",
          "iopub.status.idle": "2024-07-15T10:57:37.692911Z",
          "shell.execute_reply.started": "2024-07-15T10:57:37.681103Z",
          "shell.execute_reply": "2024-07-15T10:57:37.691702Z"
        },
        "trusted": true,
        "id": "DCxVISmP0kSO"
      },
      "outputs": [],
      "execution_count": null
    },
    {
      "cell_type": "code",
      "source": [
        "df1=pd.get_dummies(final_df,columns=[\"Airline\",\"Source\",\"Destination\",\"Additional_Info\"],drop_first=True,dtype=int)"
      ],
      "metadata": {
        "execution": {
          "iopub.status.busy": "2024-07-15T10:57:37.694546Z",
          "iopub.execute_input": "2024-07-15T10:57:37.694982Z",
          "iopub.status.idle": "2024-07-15T10:57:37.718824Z",
          "shell.execute_reply.started": "2024-07-15T10:57:37.694938Z",
          "shell.execute_reply": "2024-07-15T10:57:37.717852Z"
        },
        "trusted": true,
        "id": "J0XD48ho0kSO"
      },
      "outputs": [],
      "execution_count": null
    },
    {
      "cell_type": "code",
      "source": [
        "df1.info()"
      ],
      "metadata": {
        "execution": {
          "iopub.status.busy": "2024-07-15T10:57:37.719987Z",
          "iopub.execute_input": "2024-07-15T10:57:37.720363Z",
          "iopub.status.idle": "2024-07-15T10:57:37.738153Z",
          "shell.execute_reply.started": "2024-07-15T10:57:37.720326Z",
          "shell.execute_reply": "2024-07-15T10:57:37.737028Z"
        },
        "trusted": true,
        "id": "3VXubAvX0kSO"
      },
      "outputs": [],
      "execution_count": null
    },
    {
      "cell_type": "code",
      "source": [
        "df1.head()"
      ],
      "metadata": {
        "execution": {
          "iopub.status.busy": "2024-07-15T10:57:37.739479Z",
          "iopub.execute_input": "2024-07-15T10:57:37.739796Z",
          "iopub.status.idle": "2024-07-15T10:57:37.76538Z",
          "shell.execute_reply.started": "2024-07-15T10:57:37.739768Z",
          "shell.execute_reply": "2024-07-15T10:57:37.763831Z"
        },
        "trusted": true,
        "id": "1BbP9_6y0kSO"
      },
      "outputs": [],
      "execution_count": null
    },
    {
      "cell_type": "code",
      "source": [
        "df1.isnull().sum()"
      ],
      "metadata": {
        "execution": {
          "iopub.status.busy": "2024-07-15T10:57:37.766789Z",
          "iopub.execute_input": "2024-07-15T10:57:37.767229Z",
          "iopub.status.idle": "2024-07-15T10:57:37.779529Z",
          "shell.execute_reply.started": "2024-07-15T10:57:37.767187Z",
          "shell.execute_reply": "2024-07-15T10:57:37.77823Z"
        },
        "trusted": true,
        "id": "MEoyKR_50kSO"
      },
      "outputs": [],
      "execution_count": null
    },
    {
      "cell_type": "code",
      "source": [
        "test=df1[df1['Price'].isnull()]"
      ],
      "metadata": {
        "execution": {
          "iopub.status.busy": "2024-07-15T10:57:37.780738Z",
          "iopub.execute_input": "2024-07-15T10:57:37.781078Z",
          "iopub.status.idle": "2024-07-15T10:57:37.788192Z",
          "shell.execute_reply.started": "2024-07-15T10:57:37.781046Z",
          "shell.execute_reply": "2024-07-15T10:57:37.786968Z"
        },
        "trusted": true,
        "id": "4cQEn6Vu0kSO"
      },
      "outputs": [],
      "execution_count": null
    },
    {
      "cell_type": "code",
      "source": [
        "test"
      ],
      "metadata": {
        "execution": {
          "iopub.status.busy": "2024-07-15T10:57:37.789544Z",
          "iopub.execute_input": "2024-07-15T10:57:37.790521Z",
          "iopub.status.idle": "2024-07-15T10:57:37.817771Z",
          "shell.execute_reply.started": "2024-07-15T10:57:37.790479Z",
          "shell.execute_reply": "2024-07-15T10:57:37.816753Z"
        },
        "trusted": true,
        "id": "ZVIKoOQr0kSO"
      },
      "outputs": [],
      "execution_count": null
    },
    {
      "cell_type": "code",
      "source": [
        "train=df1[~df1['Price'].isnull()]"
      ],
      "metadata": {
        "execution": {
          "iopub.status.busy": "2024-07-15T10:57:37.819263Z",
          "iopub.execute_input": "2024-07-15T10:57:37.819589Z",
          "iopub.status.idle": "2024-07-15T10:57:37.82727Z",
          "shell.execute_reply.started": "2024-07-15T10:57:37.819561Z",
          "shell.execute_reply": "2024-07-15T10:57:37.826163Z"
        },
        "trusted": true,
        "id": "e0nSPs1s0kSO"
      },
      "outputs": [],
      "execution_count": null
    },
    {
      "cell_type": "code",
      "source": [
        "train"
      ],
      "metadata": {
        "execution": {
          "iopub.status.busy": "2024-07-15T10:57:37.8288Z",
          "iopub.execute_input": "2024-07-15T10:57:37.829245Z",
          "iopub.status.idle": "2024-07-15T10:57:37.865424Z",
          "shell.execute_reply.started": "2024-07-15T10:57:37.829206Z",
          "shell.execute_reply": "2024-07-15T10:57:37.864249Z"
        },
        "trusted": true,
        "id": "Ud80VbsN0kSO"
      },
      "outputs": [],
      "execution_count": null
    },
    {
      "cell_type": "code",
      "source": [
        "X=train.drop(['Price'],axis=1)\n",
        "y=train['Price']"
      ],
      "metadata": {
        "execution": {
          "iopub.status.busy": "2024-07-15T10:57:37.866874Z",
          "iopub.execute_input": "2024-07-15T10:57:37.867214Z",
          "iopub.status.idle": "2024-07-15T10:57:37.875563Z",
          "shell.execute_reply.started": "2024-07-15T10:57:37.867185Z",
          "shell.execute_reply": "2024-07-15T10:57:37.874282Z"
        },
        "trusted": true,
        "id": "Mjtc8WuX0kSP"
      },
      "outputs": [],
      "execution_count": null
    },
    {
      "cell_type": "code",
      "source": [
        "from sklearn.model_selection import train_test_split\n",
        "X_train,X_test,y_train,y_test=train_test_split(X,y,test_size=0.3,random_state=42)"
      ],
      "metadata": {
        "execution": {
          "iopub.status.busy": "2024-07-15T10:57:37.877154Z",
          "iopub.execute_input": "2024-07-15T10:57:37.877624Z",
          "iopub.status.idle": "2024-07-15T10:57:37.919195Z",
          "shell.execute_reply.started": "2024-07-15T10:57:37.877576Z",
          "shell.execute_reply": "2024-07-15T10:57:37.918222Z"
        },
        "trusted": true,
        "id": "BWNKM8pB0kSP"
      },
      "outputs": [],
      "execution_count": null
    },
    {
      "cell_type": "code",
      "source": [
        "from sklearn.ensemble import RandomForestRegressor\n",
        "model=RandomForestRegressor()\n",
        "model.fit(X_train,y_train)\n",
        "pred=model.predict(X_test)\n"
      ],
      "metadata": {
        "execution": {
          "iopub.status.busy": "2024-07-15T10:57:37.920683Z",
          "iopub.execute_input": "2024-07-15T10:57:37.921119Z",
          "iopub.status.idle": "2024-07-15T10:57:40.83568Z",
          "shell.execute_reply.started": "2024-07-15T10:57:37.921079Z",
          "shell.execute_reply": "2024-07-15T10:57:40.83438Z"
        },
        "trusted": true,
        "id": "A1Hh5Ykj0kSP"
      },
      "outputs": [],
      "execution_count": null
    },
    {
      "cell_type": "code",
      "source": [
        "pred"
      ],
      "metadata": {
        "execution": {
          "iopub.status.busy": "2024-07-15T10:57:40.837115Z",
          "iopub.execute_input": "2024-07-15T10:57:40.837454Z",
          "iopub.status.idle": "2024-07-15T10:57:40.845068Z",
          "shell.execute_reply.started": "2024-07-15T10:57:40.837424Z",
          "shell.execute_reply": "2024-07-15T10:57:40.843845Z"
        },
        "trusted": true,
        "id": "IP0VLSwQ0kSP"
      },
      "outputs": [],
      "execution_count": null
    },
    {
      "cell_type": "code",
      "source": [
        "from sklearn.metrics import r2_score, mean_absolute_error, mean_squared_error\n",
        "import numpy as np\n",
        "\n",
        "# Calculate R^2 score\n",
        "r2 = r2_score(y_test, pred)\n",
        "print(f\"R^2 score: {r2}\")\n",
        "\n",
        "# Calculate Mean Absolute Error\n",
        "mae = mean_absolute_error(y_test, pred)\n",
        "print(f\"Mean Absolute Error: {mae}\")\n",
        "\n",
        "# Calculate Root Mean Squared Error\n",
        "rmse = np.sqrt(mean_squared_error(y_test, pred))\n",
        "print(f\"Root Mean Squared Error: {rmse}\")"
      ],
      "metadata": {
        "execution": {
          "iopub.status.busy": "2024-07-15T10:57:40.846732Z",
          "iopub.execute_input": "2024-07-15T10:57:40.847209Z",
          "iopub.status.idle": "2024-07-15T10:57:40.859401Z",
          "shell.execute_reply.started": "2024-07-15T10:57:40.84717Z",
          "shell.execute_reply": "2024-07-15T10:57:40.858203Z"
        },
        "trusted": true,
        "id": "20eLFxDZ0kSP"
      },
      "outputs": [],
      "execution_count": null
    },
    {
      "cell_type": "code",
      "source": [
        "test=test.drop(['Price'],axis=1)\n",
        "\n",
        "predictions=model.predict(test)\n",
        "df=pd.DataFrame(predictions)\n",
        "df.to_csv('output.csv')"
      ],
      "metadata": {
        "execution": {
          "iopub.status.busy": "2024-07-15T10:57:40.861097Z",
          "iopub.execute_input": "2024-07-15T10:57:40.861448Z",
          "iopub.status.idle": "2024-07-15T10:57:40.94474Z",
          "shell.execute_reply.started": "2024-07-15T10:57:40.861419Z",
          "shell.execute_reply": "2024-07-15T10:57:40.943594Z"
        },
        "trusted": true,
        "id": "v8XBgWA00kSP"
      },
      "outputs": [],
      "execution_count": null
    }
  ]
}